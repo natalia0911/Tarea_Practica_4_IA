{
  "cells": [
    {
      "cell_type": "markdown",
      "metadata": {
        "id": "view-in-github",
        "colab_type": "text"
      },
      "source": [
        "<a href=\"https://colab.research.google.com/github/natalia0911/Tarea_Practica_4_IA/blob/main/2022_1_Trabajo_Practico_04_NataliaVargas_FabricioElizondo.ipynb\" target=\"_parent\"><img src=\"https://colab.research.google.com/assets/colab-badge.svg\" alt=\"Open In Colab\"/></a>"
      ]
    },
    {
      "cell_type": "markdown",
      "metadata": {
        "id": "Y5zYLAE8LTvr"
      },
      "source": [
        "**Instituto Tecnológico de Costa Rica**\n",
        "\n",
        "**Escuela de Ingeniería en Computación**\n",
        "\n",
        "**Curso: Inteligencia Artificial**\n",
        "\n",
        "**Primer Semestre 2022**\n",
        "\n",
        "**Profesor: Luis-Alexander Calvo-Valverde**\n",
        "\n",
        "**Trabajo Práctico:** 04\n",
        "\n",
        "**Datos de la entrega:** Martes 14 de junio 2022, a más tardar a las 11:59 pm\n",
        "\n",
        "**Estudiantes:**\n",
        "- Natalia Vanessa Vargas Reyes\n",
        "- Fabricio Antonio Elizondo Fernández\n"
      ]
    },
    {
      "cell_type": "markdown",
      "metadata": {
        "id": "oADkSnEZrvyz"
      },
      "source": [
        "# Experimentación con regresión en redes neuronales artificiales\n",
        "\n",
        "Indicaciones generales que deben seguir:\n",
        "1. Se le proporcionan el conjunto de datos y un archivo de texto con una breve explicación de las columnas (esta es la versión del dataset que debe usar, no busque similares en internet).\n",
        "1. Realizarán regresión y el atributo a predecir es: **price**.\n",
        "1. Para que vayan experimentando lo que se vive en esta disciplina, Ustedes deben ir tomando las decisiones en el proceso y documentarlas en celdas de texto y además su código debe venir ampliamente comentado. Recuerden que el profesor hace de cliente por si tienen dudas. \n",
        "1. Deben dividir el dataset en tres conjuntos de datos: train (60%), validation (20%) y test (20%).\n",
        "1. La red propuesta debe tener al menos dos capas ocultas.\n",
        "1. Ustedes proponen el diseño experimental (quiero ver qué han entendido de este concepto fundamental en data science).\n",
        "1. Deben utilizar **una de estas dos herramientas** para dar seguimiento a los resultados en el caso de la red neuronal artificial: \n",
        "    1. https://www.wandb.com/\n",
        "    1. https://www.comet.ml/site/\n",
        "\n",
        "\n",
        "Criterios de evaluación:\n",
        "1. Deben presentar una implementación completa, en una de estas opciones: pytorch, tensorflow o keras (Claro que pueden usar numpy, pandas y otras bibliotecas más, para todo el tema de carga del dataset, analizarlo y pre-procesarlo). (**55 puntos**)\n",
        "1. Uso de herramienta de seguimiento de resultados. (**10 puntos**)\n",
        "1. Documentación de decisiones en celdas de texto y comentarios al código. (**20 puntos**)\n",
        "1. Conclusiones finales: En una celda de código al final del cuaderno, incluya sus conclusiones más importantes del experimento y algunos de los gráficos que genera la herramienta seleccionada, junto con su interpretación de los mismos. (**15 puntos**)"
      ]
    },
    {
      "cell_type": "markdown",
      "source": [
        "##1. Preprocesamiento"
      ],
      "metadata": {
        "id": "Sx46HlCnnw5r"
      }
    },
    {
      "cell_type": "code",
      "source": [
        "%matplotlib inline\n",
        "import pandas as pd\n",
        "import math\n",
        "import matplotlib.pyplot as plt\n",
        "import numpy as np"
      ],
      "metadata": {
        "id": "6i1JTgf8qC0R"
      },
      "execution_count": 1,
      "outputs": []
    },
    {
      "cell_type": "code",
      "execution_count": 2,
      "metadata": {
        "colab": {
          "base_uri": "https://localhost:8080/"
        },
        "id": "3kMleO6BoB71",
        "outputId": "1ee30b6d-99a6-469a-9540-954f5f5a91ed"
      },
      "outputs": [
        {
          "output_type": "stream",
          "name": "stdout",
          "text": [
            "Mounted at /content/drive\n"
          ]
        }
      ],
      "source": [
        "from google.colab import drive\n",
        "drive.mount('/content/drive')"
      ]
    },
    {
      "cell_type": "code",
      "source": [
        "diamonds_df = pd.read_csv('/content/drive/MyDrive/1 SEMESTRE 2022/IA/Trabajo Práctico 4/diamonds.csv', header = 0, delimiter=',')  \n",
        "#print(dataset.describe())\n",
        "print(diamonds_df.head(5))\n",
        "#Ver las filas\n",
        "print(diamonds_df.shape[0])"
      ],
      "metadata": {
        "colab": {
          "base_uri": "https://localhost:8080/"
        },
        "id": "8OZ_rFoRqfls",
        "outputId": "4fff208e-e509-48cd-e796-1fd54c13dc9e"
      },
      "execution_count": 3,
      "outputs": [
        {
          "output_type": "stream",
          "name": "stdout",
          "text": [
            "   id  carat      cut color clarity  depth  table  price     x     y     z\n",
            "0   1   0.23    Ideal     E     SI2   61.5   55.0    326  3.95  3.98  2.43\n",
            "1   2   0.21  Premium     E     SI1   59.8   61.0    326  3.89  3.84  2.31\n",
            "2   3   0.23     Good     E     VS1   56.9   65.0    327  4.05  4.07  2.31\n",
            "3   4   0.29  Premium     I     VS2   62.4   58.0    334  4.20  4.23  2.63\n",
            "4   5   0.31     Good     J     SI2   63.3   58.0    335  4.34  4.35  2.75\n",
            "53940\n"
          ]
        }
      ]
    },
    {
      "cell_type": "code",
      "source": [
        "# Se realiza una comprobación del tipo de dato de cada columna\n",
        "print(diamonds_df.dtypes)"
      ],
      "metadata": {
        "colab": {
          "base_uri": "https://localhost:8080/"
        },
        "id": "L5-wwoRiCYD0",
        "outputId": "cc8d0dd9-10d7-4e3d-c4e6-18f360aec026"
      },
      "execution_count": 4,
      "outputs": [
        {
          "output_type": "stream",
          "name": "stdout",
          "text": [
            "id           int64\n",
            "carat      float64\n",
            "cut         object\n",
            "color       object\n",
            "clarity     object\n",
            "depth      float64\n",
            "table      float64\n",
            "price        int64\n",
            "x          float64\n",
            "y          float64\n",
            "z          float64\n",
            "dtype: object\n"
          ]
        }
      ]
    },
    {
      "cell_type": "markdown",
      "source": [
        "####Histogramas\n",
        "A continuación se muestran histogramas de los atributos. Esto nos permitirá ver las distribuciones de los mismos, y determinar cuales son ordinales o categoricos, de manera que más adelante se puedan tomar las medidas del caso codificando esos determinados atributos."
      ],
      "metadata": {
        "id": "vvj9xt0iJ_hd"
      }
    },
    {
      "cell_type": "code",
      "source": [
        "# Se grafican cada uno de los atributos utilizando un histrograma\n",
        "fig, axs = plt.subplots(2, 5, constrained_layout=True, figsize=(20,7))\n",
        "fig.suptitle('Histograma de cada atributo', fontsize=16)\n",
        "\n",
        "d = 1\n",
        "for i in range(2):\n",
        "  for j in range(5):\n",
        "    axs[i,j].set_title(diamonds_df.columns[d])\n",
        "    diamonds_df.iloc[:, d].hist(ax=axs[i,j], color='skyblue')\n",
        "    d += 1\n",
        "\n",
        "plt.show()"
      ],
      "metadata": {
        "colab": {
          "base_uri": "https://localhost:8080/",
          "height": 529
        },
        "id": "CaB7Ht1NCnZs",
        "outputId": "6bdd2579-6d85-4b7f-eac2-f62e90404ede"
      },
      "execution_count": 5,
      "outputs": [
        {
          "output_type": "display_data",
          "data": {
            "text/plain": [
              "<Figure size 1440x504 with 10 Axes>"
            ],
            "image/png": "[encoded data removed]"
          },
          "metadata": {
            "needs_background": "light"
          }
        }
      ]
    },
    {
      "cell_type": "markdown",
      "source": [
        "Como podemos observar en la gráficas, tenemos una variables que puedan ser ordinaria, que es el caso de cut y tenemos 2 que son binarias, en este caso son color y clarity. Estas se deberán codificar para tratarlas como números. "
      ],
      "metadata": {
        "id": "W_irjA3fJwP1"
      }
    },
    {
      "cell_type": "markdown",
      "source": [
        "####Verificar outliers\n",
        "Con diagramas de cajas podemos verificar visualmente si se encuentran valores que son outliers, es decir que se alejen de la media. \n",
        "En este caso solo mostramos los valores que no de tipo Object. "
      ],
      "metadata": {
        "id": "NzVPfMqoZWij"
      }
    },
    {
      "cell_type": "code",
      "source": [
        "# Se grafica con un boxplot cada uno de los atributos del dataset\n",
        "fig, axs = plt.subplots(2, 4, constrained_layout=True, figsize=(15,8))\n",
        "fig.suptitle('Boxplot por atributo', fontsize=16)\n",
        "\n",
        "invalid = [1,5,6,7,8,9,10] #10\n",
        "index = 0\n",
        "for i in range(2):\n",
        "  for j in range(4):\n",
        "    if not((i,j)==(1,3)):\n",
        "      axs[i,j].set_title(diamonds_df.columns[invalid[index]])\n",
        "      axs[i,j].boxplot(diamonds_df.iloc[:,invalid[index]])\n",
        "    index+=1\n",
        "    \n"
      ],
      "metadata": {
        "colab": {
          "base_uri": "https://localhost:8080/",
          "height": 601
        },
        "id": "XGT2_PCJOgxs",
        "outputId": "7ca7b990-7d78-47cc-99ae-2981fc117e02"
      },
      "execution_count": 47,
      "outputs": [
        {
          "output_type": "display_data",
          "data": {
            "text/plain": [
              "<Figure size 1080x576 with 8 Axes>"
            ],
            "image/png": "[encoded data removed]"
          },
          "metadata": {
            "needs_background": "light"
          }
        }
      ]
    },
    {
      "cell_type": "markdown",
      "source": [
        "####Verificar valores faltantes\n",
        "Hacemos un conteo de las filas que hay en el dataset y también de los filas para cada atributo, con la función count, que me devuelve solamente la cantidad de celdas no vacías."
      ],
      "metadata": {
        "id": "0BBWFaprYx-d"
      }
    },
    {
      "cell_type": "code",
      "source": [
        "print(\"Cantidad de muestras \",len(diamonds_df), \"\\n\")\n",
        "print(diamonds_df.count())"
      ],
      "metadata": {
        "colab": {
          "base_uri": "https://localhost:8080/"
        },
        "id": "BPstBxvBXznU",
        "outputId": "7c65260e-9f6f-4cb1-fbdf-f696e9abb1df"
      },
      "execution_count": 6,
      "outputs": [
        {
          "output_type": "stream",
          "name": "stdout",
          "text": [
            "Cantidad de muestras  53940 \n",
            "\n",
            "id         53940\n",
            "carat      53940\n",
            "cut        53940\n",
            "color      53940\n",
            "clarity    53940\n",
            "depth      53940\n",
            "table      53940\n",
            "price      53940\n",
            "x          53940\n",
            "y          53940\n",
            "z          53940\n",
            "dtype: int64\n"
          ]
        }
      ]
    },
    {
      "cell_type": "markdown",
      "source": [
        "####Análisis de los outliers\n",
        "Se crea una función que nos permite comprobar cuáles son los outliers para una determinado atributo "
      ],
      "metadata": {
        "id": "inJg53QvbmCS"
      }
    },
    {
      "cell_type": "code",
      "source": [
        "def printOutliers(data):\n",
        "  print(\"---------------- Resumen Estadístico de la variable ----------------\")\n",
        "  print(data.describe())\n",
        "\n",
        "  values = data.iloc[:, 0]\n",
        "  print(\"------------------------- Ver outliers -----------------------------\")\n",
        "  #Imprimir valores que se encuentren entre dichos cuartiles\n",
        "  print(values[values.between(values.quantile(0), values.quantile(.003))] )\n",
        "  print(\"-----------------------------------------------\")\n",
        "  print(values[values.between(values.quantile(.997), values.quantile(1))] )"
      ],
      "metadata": {
        "id": "4edUCcY9a9gg"
      },
      "execution_count": 7,
      "outputs": []
    },
    {
      "cell_type": "code",
      "source": [
        "data = pd.DataFrame(diamonds_df.carat)\n",
        "printOutliers(data)"
      ],
      "metadata": {
        "colab": {
          "base_uri": "https://localhost:8080/"
        },
        "id": "XmNDfZNKekXY",
        "outputId": "ac3326ce-fe13-4d22-f730-caef2b6ef9cb"
      },
      "execution_count": 6,
      "outputs": [
        {
          "output_type": "stream",
          "name": "stdout",
          "text": [
            "---------------- Resumen Estadístico de la variable ----------------\n",
            "              carat\n",
            "count  53940.000000\n",
            "mean       0.797940\n",
            "std        0.474011\n",
            "min        0.200000\n",
            "25%        0.400000\n",
            "50%        0.700000\n",
            "75%        1.040000\n",
            "max        5.010000\n",
            "------------------------- Ver outliers -----------------------------\n",
            "0        0.23\n",
            "1        0.21\n",
            "2        0.23\n",
            "8        0.22\n",
            "9        0.23\n",
            "         ... \n",
            "52302    0.23\n",
            "52303    0.23\n",
            "52304    0.23\n",
            "52310    0.23\n",
            "52314    0.23\n",
            "Name: carat, Length: 319, dtype: float64\n",
            "-----------------------------------------------\n",
            "15684    2.49\n",
            "16283    3.00\n",
            "17196    2.72\n",
            "19081    2.50\n",
            "19339    3.01\n",
            "         ... \n",
            "27684    3.01\n",
            "27685    3.01\n",
            "27727    2.61\n",
            "27731    2.55\n",
            "27739    2.80\n",
            "Name: carat, Length: 165, dtype: float64\n"
          ]
        }
      ]
    },
    {
      "cell_type": "code",
      "source": [
        "data = pd.DataFrame(diamonds_df.depth)\n",
        "printOutliers(data)"
      ],
      "metadata": {
        "colab": {
          "base_uri": "https://localhost:8080/"
        },
        "id": "Sf0LwWtNcpvO",
        "outputId": "99275430-5f01-4dd2-b4f2-4770b569518b"
      },
      "execution_count": 7,
      "outputs": [
        {
          "output_type": "stream",
          "name": "stdout",
          "text": [
            "---------------- Resumen Estadístico de la variable ----------------\n",
            "              depth\n",
            "count  53940.000000\n",
            "mean      61.749405\n",
            "std        1.432621\n",
            "min       43.000000\n",
            "25%       61.000000\n",
            "50%       61.800000\n",
            "75%       62.500000\n",
            "max       79.000000\n",
            "------------------------- Ver outliers -----------------------------\n",
            "91       55.1\n",
            "227      55.1\n",
            "423      55.0\n",
            "440      56.0\n",
            "443      53.1\n",
            "         ... \n",
            "52474    55.5\n",
            "53064    56.5\n",
            "53542    54.7\n",
            "53756    55.6\n",
            "53757    55.4\n",
            "Name: depth, Length: 166, dtype: float64\n",
            "-----------------------------------------------\n",
            "204      67.9\n",
            "298      67.4\n",
            "352      67.3\n",
            "385      68.1\n",
            "714      67.8\n",
            "         ... \n",
            "52861    79.0\n",
            "52993    67.7\n",
            "53434    67.6\n",
            "53540    72.9\n",
            "53800    68.7\n",
            "Name: depth, Length: 169, dtype: float64\n"
          ]
        }
      ]
    },
    {
      "cell_type": "code",
      "source": [
        "data = pd.DataFrame(diamonds_df.table)\n",
        "printOutliers(data)"
      ],
      "metadata": {
        "colab": {
          "base_uri": "https://localhost:8080/"
        },
        "id": "RZsrwfKSc3o0",
        "outputId": "4eefe266-7b10-4564-95ef-f342120fd5d1"
      },
      "execution_count": 8,
      "outputs": [
        {
          "output_type": "stream",
          "name": "stdout",
          "text": [
            "---------------- Resumen Estadístico de la variable ----------------\n",
            "              table\n",
            "count  53940.000000\n",
            "mean      57.457184\n",
            "std        2.234491\n",
            "min       43.000000\n",
            "25%       56.000000\n",
            "50%       57.000000\n",
            "75%       59.000000\n",
            "max       95.000000\n",
            "------------------------- Ver outliers -----------------------------\n",
            "115      53.0\n",
            "243      52.0\n",
            "593      53.0\n",
            "612      53.0\n",
            "630      53.0\n",
            "         ... \n",
            "53657    53.0\n",
            "53688    52.0\n",
            "53706    53.0\n",
            "53771    53.0\n",
            "53881    53.0\n",
            "Name: table, Length: 643, dtype: float64\n",
            "-----------------------------------------------\n",
            "91       69.0\n",
            "227      67.0\n",
            "296      66.0\n",
            "314      70.0\n",
            "356      66.0\n",
            "         ... \n",
            "52865    66.0\n",
            "53064    68.0\n",
            "53154    66.0\n",
            "53542    67.0\n",
            "53660    67.0\n",
            "Name: table, Length: 180, dtype: float64\n"
          ]
        }
      ]
    },
    {
      "cell_type": "code",
      "source": [
        "data = pd.DataFrame(diamonds_df.price)\n",
        "printOutliers(data)"
      ],
      "metadata": {
        "colab": {
          "base_uri": "https://localhost:8080/"
        },
        "id": "3HOf0yECc7JA",
        "outputId": "508a291c-fe10-479c-ac47-669793bdfec4"
      },
      "execution_count": 9,
      "outputs": [
        {
          "output_type": "stream",
          "name": "stdout",
          "text": [
            "---------------- Resumen Estadístico de la variable ----------------\n",
            "              price\n",
            "count  53940.000000\n",
            "mean    3932.799722\n",
            "std     3989.439738\n",
            "min      326.000000\n",
            "25%      950.000000\n",
            "50%     2401.000000\n",
            "75%     5324.250000\n",
            "max    18823.000000\n",
            "------------------------- Ver outliers -----------------------------\n",
            "0        326\n",
            "1        326\n",
            "2        327\n",
            "3        334\n",
            "4        335\n",
            "        ... \n",
            "41595    391\n",
            "41596    391\n",
            "41597    391\n",
            "41598    391\n",
            "41599    391\n",
            "Name: price, Length: 170, dtype: int64\n",
            "-----------------------------------------------\n",
            "27558    18359\n",
            "27559    18363\n",
            "27560    18364\n",
            "27561    18369\n",
            "27562    18371\n",
            "         ...  \n",
            "27745    18803\n",
            "27746    18804\n",
            "27747    18806\n",
            "27748    18818\n",
            "27749    18823\n",
            "Name: price, Length: 162, dtype: int64\n"
          ]
        }
      ]
    },
    {
      "cell_type": "code",
      "source": [
        "data = pd.DataFrame(diamonds_df.x)\n",
        "printOutliers(data)"
      ],
      "metadata": {
        "colab": {
          "base_uri": "https://localhost:8080/"
        },
        "id": "4kEEsjgAc8DO",
        "outputId": "143891c2-57de-4bd0-c508-4ca3e7807952"
      },
      "execution_count": 10,
      "outputs": [
        {
          "output_type": "stream",
          "name": "stdout",
          "text": [
            "---------------- Resumen Estadístico de la variable ----------------\n",
            "                  x\n",
            "count  53940.000000\n",
            "mean       5.731157\n",
            "std        1.121761\n",
            "min        0.000000\n",
            "25%        4.710000\n",
            "50%        5.700000\n",
            "75%        6.540000\n",
            "max       10.740000\n",
            "------------------------- Ver outliers -----------------------------\n",
            "1        3.89\n",
            "8        3.87\n",
            "11       3.93\n",
            "12       3.88\n",
            "14       3.79\n",
            "         ... \n",
            "50639    3.90\n",
            "52643    3.92\n",
            "52957    3.93\n",
            "52960    3.92\n",
            "52967    3.93\n",
            "Name: x, Length: 186, dtype: float64\n",
            "-----------------------------------------------\n",
            "16283    9.23\n",
            "17097    8.75\n",
            "17897    8.71\n",
            "19339    9.10\n",
            "19346    8.93\n",
            "         ... \n",
            "27685    9.41\n",
            "27726    8.69\n",
            "27727    8.85\n",
            "27731    8.70\n",
            "27739    8.90\n",
            "Name: x, Length: 166, dtype: float64\n"
          ]
        }
      ]
    },
    {
      "cell_type": "code",
      "source": [
        "data = pd.DataFrame(diamonds_df.y)\n",
        "printOutliers(data)"
      ],
      "metadata": {
        "colab": {
          "base_uri": "https://localhost:8080/"
        },
        "id": "lxEM-FV3c8xo",
        "outputId": "b4035b74-83c8-412e-dbf6-85de48709c14"
      },
      "execution_count": 11,
      "outputs": [
        {
          "output_type": "stream",
          "name": "stdout",
          "text": [
            "---------------- Resumen Estadístico de la variable ----------------\n",
            "                  y\n",
            "count  53940.000000\n",
            "mean       5.734526\n",
            "std        1.142135\n",
            "min        0.000000\n",
            "25%        4.720000\n",
            "50%        5.710000\n",
            "75%        6.540000\n",
            "max       58.900000\n",
            "------------------------- Ver outliers -----------------------------\n",
            "1        3.84\n",
            "5        3.96\n",
            "8        3.78\n",
            "11       3.90\n",
            "12       3.84\n",
            "         ... \n",
            "50634    3.89\n",
            "52302    3.96\n",
            "52310    3.95\n",
            "52960    3.93\n",
            "52967    3.96\n",
            "Name: y, Length: 200, dtype: float64\n",
            "-----------------------------------------------\n",
            "16283     9.10\n",
            "17097     8.69\n",
            "19339     8.97\n",
            "19346     8.84\n",
            "19866     9.07\n",
            "         ...  \n",
            "27726     8.75\n",
            "27727     8.73\n",
            "27731     8.65\n",
            "27739     8.85\n",
            "49189    31.80\n",
            "Name: y, Length: 166, dtype: float64\n"
          ]
        }
      ]
    },
    {
      "cell_type": "code",
      "source": [
        "data = pd.DataFrame(diamonds_df.z)\n",
        "printOutliers(data)"
      ],
      "metadata": {
        "colab": {
          "base_uri": "https://localhost:8080/"
        },
        "id": "Cdr_1IXUewFe",
        "outputId": "57d2a900-3e2f-408f-fe9c-3e62a2efbb8d"
      },
      "execution_count": 12,
      "outputs": [
        {
          "output_type": "stream",
          "name": "stdout",
          "text": [
            "---------------- Resumen Estadístico de la variable ----------------\n",
            "                  z\n",
            "count  53940.000000\n",
            "mean       3.538734\n",
            "std        0.705699\n",
            "min        0.000000\n",
            "25%        2.910000\n",
            "50%        3.530000\n",
            "75%        4.040000\n",
            "max       31.800000\n",
            "------------------------- Ver outliers -----------------------------\n",
            "1        2.31\n",
            "2        2.31\n",
            "9        2.39\n",
            "12       2.33\n",
            "14       2.27\n",
            "         ... \n",
            "52953    2.40\n",
            "52954    2.41\n",
            "52955    2.40\n",
            "52956    2.39\n",
            "52975    2.40\n",
            "Name: z, Length: 192, dtype: float64\n",
            "-----------------------------------------------\n",
            "13002     5.36\n",
            "13757     5.36\n",
            "14138     5.43\n",
            "15684     5.45\n",
            "16283     5.77\n",
            "         ...  \n",
            "27684     5.64\n",
            "27685     5.59\n",
            "27727     5.46\n",
            "27731     5.36\n",
            "48410    31.80\n",
            "Name: z, Length: 169, dtype: float64\n"
          ]
        }
      ]
    },
    {
      "cell_type": "markdown",
      "source": [
        "####Separar en Train 60%, Test 20% y Validation 20%"
      ],
      "metadata": {
        "id": "ChWJxdZx4b3L"
      }
    },
    {
      "cell_type": "code",
      "source": [
        "#Separar los datos en X y Y, donde Y es la variable que queremos predecir\n",
        "my_data = diamonds_df.copy()\n",
        "x = my_data.drop(['price'], axis=1)\n",
        "cantidad_muestras = len(my_data)\n",
        "y = pd.DataFrame(my_data, columns = ['price'])\n",
        "\n",
        "print(\"\\nMuestra fila 1 de X: \\n\", x[0:1])\n",
        "print(\"\\nMuestra fila 1 de Y: \\n\", y[0:1])\n",
        "print(\"\\nCantidad de muestras: \", len(my_data))\n",
        "print(\"\\nCantidad de atributos (incluye y): \", my_data.shape[1])\n",
        "print(len(x), len(y))"
      ],
      "metadata": {
        "colab": {
          "base_uri": "https://localhost:8080/"
        },
        "id": "NJ1-zk_b4aQJ",
        "outputId": "733c08d9-9617-446f-a5fe-973ee739d03c"
      },
      "execution_count": 4,
      "outputs": [
        {
          "output_type": "stream",
          "name": "stdout",
          "text": [
            "\n",
            "Muestra fila 1 de X: \n",
            "    id  carat    cut color clarity  depth  table     x     y     z\n",
            "0   1   0.23  Ideal     E     SI2   61.5   55.0  3.95  3.98  2.43\n",
            "\n",
            "Muestra fila 1 de Y: \n",
            "    price\n",
            "0    326\n",
            "\n",
            "Cantidad de muestras:  53940\n",
            "\n",
            "Cantidad de atributos (incluye y):  11\n",
            "53940 53940\n"
          ]
        }
      ]
    },
    {
      "cell_type": "code",
      "source": [
        "from sklearn.model_selection import train_test_split\n",
        "#Se divide el conjunto de datos en Train, Validation y Test\n",
        "X_train, X_test, Y_train, Y_test = train_test_split(x, \n",
        "                                                    y, \n",
        "                                                    train_size=0.6,\n",
        "                                                    shuffle=True,     #Mezclar los datos y que se reparta aleatoriamente\n",
        "                                                    random_state=40)  #Definir una semilla para usar los mismos valores en todas las corridas\n",
        "\n",
        "X_val, X_test, Y_val, Y_test  = train_test_split(   X_test, \n",
        "                                                    Y_test, \n",
        "                                                    test_size=0.5,\n",
        "                                                    shuffle=True,     #Mezclar los datos y que se reparta aleatoriamente\n",
        "                                                    random_state=40)  #Definir una semilla para usar los mismos valores en todas las corridas\n",
        "\n",
        "print(\"\\nTamaño de X_train + X_val  + X_test : \", len(X_train)+len(X_val)+len(X_test))\n",
        "print(\"\\nTamaño del train: \", len(X_train))\n",
        "print(\"\\nTamaño del test: \", len(X_test))\n",
        "print(\"\\nTamaño del validation: \", len(X_val))\n",
        "print(\"\\nPrimer elemento del X_train:\")\n",
        "print( X_train[0:1])\n",
        "print(\"\\nPrimer elemento del X_test:\")\n",
        "print( X_test[0:1])\n",
        "print(\"\\nPrimer elemento del X_val:\")\n",
        "print( X_val[0:1])\n",
        "print(\"\\nPrimer elemento del y_train:\")\n",
        "print( Y_train[0:1])\n",
        "print(\"\\nPrimer elemento del y_test:\")\n",
        "print( Y_test[0:1])\n",
        "print(\"\\nPrimer elemento del y_val:\")\n",
        "print( Y_val[0:1])"
      ],
      "metadata": {
        "colab": {
          "base_uri": "https://localhost:8080/"
        },
        "id": "oE0M11AG9apZ",
        "outputId": "4ec3b279-ce48-4e35-e611-9e54a150f007"
      },
      "execution_count": 70,
      "outputs": [
        {
          "output_type": "stream",
          "name": "stdout",
          "text": [
            "\n",
            "Tamaño de X_train + X_val  + X_test :  53940\n",
            "\n",
            "Tamaño del train:  32364\n",
            "\n",
            "Tamaño del test:  10788\n",
            "\n",
            "Tamaño del validation:  10788\n",
            "\n",
            "Primer elemento del X_train:\n",
            "          id  carat        cut color clarity  depth  table     x     y     z\n",
            "31225  31226   0.32  Very Good     D     SI1   63.5   55.0  4.35  4.31  2.75\n",
            "\n",
            "Primer elemento del X_test:\n",
            "          id  carat      cut color clarity  depth  table     x     y     z\n",
            "14402  14403   1.06  Premium     D     SI1   59.4   57.0  6.72  6.65  3.97\n",
            "\n",
            "Primer elemento del X_val:\n",
            "          id  carat    cut color clarity  depth  table     x     y     z\n",
            "16646  16647   1.22  Ideal     H     SI1   61.8   57.0  6.83  6.85  4.23\n",
            "\n",
            "Primer elemento del y_train:\n",
            "       price\n",
            "31225    756\n",
            "\n",
            "Primer elemento del y_test:\n",
            "       price\n",
            "14402   5817\n",
            "\n",
            "Primer elemento del y_val:\n",
            "       price\n",
            "16646   6654\n"
          ]
        }
      ]
    },
    {
      "cell_type": "markdown",
      "source": [
        "####Se elimina la columna Id"
      ],
      "metadata": {
        "id": "s7ngVXyGPpsk"
      }
    },
    {
      "cell_type": "code",
      "source": [
        "X_train = X_train.drop('id', 1)\n",
        "X_val = X_val.drop('id', 1)\n",
        "X_test = X_test.drop('id', 1)\n",
        "\n",
        "# Se almacena en una variable los valores de las nuevas columnas del arreglo X\n",
        "column_names = X_train.columns.values"
      ],
      "metadata": {
        "id": "8SaO3vP1PlRs"
      },
      "execution_count": null,
      "outputs": []
    },
    {
      "cell_type": "markdown",
      "source": [
        "####Codificar atributos ordinales"
      ],
      "metadata": {
        "id": "VYq09SPiInQf"
      }
    },
    {
      "cell_type": "code",
      "source": [
        "#Se crea un diccionario con los valores correspondientes para los valores de las variables ordinales\n",
        "mapping_cut = { \"Ideal\" :5,\"Premium\" :4,\"Very Good\":3, \"Good\" :2, \"Fair\":1 }   \n",
        "mapping_clarity = {\"I1\":1, \"SI2\":2, \"SI1\":3, \"VS2\":4, \"VS1\":5, \"VVS2\":6, \"VVS1\":7, \"IF\":8}\n",
        "mapping_color = {\"D\":7,\"E\":6,\"F\":5,\"G\":4,\"H\":3,\"I\":2,\"J\":1}\n",
        "\n",
        "# Se hace el reemplazo en el test, train y val\n",
        "X_test = X_test.replace(mapping_cut).replace(mapping_clarity).replace(mapping_color)\n",
        "X_train = X_train.replace(mapping_cut).replace(mapping_clarity).replace(mapping_color)\n",
        "X_val = X_val.replace(mapping_cut).replace(mapping_clarity).replace(mapping_color)\n",
        "#Se imprimen los primeros 5 de cada conjunto\n",
        "print(X_train.head(5))\n",
        "print(\"------------------------------------------------------------------------\")\n",
        "print(X_test.head(5))\n",
        "print(\"------------------------------------------------------------------------\")\n",
        "print(X_val.head(5))"
      ],
      "metadata": {
        "colab": {
          "base_uri": "https://localhost:8080/"
        },
        "id": "OrzwSk-OIf1p",
        "outputId": "199e918a-9757-4adf-cfaa-6d5667e763e0"
      },
      "execution_count": 72,
      "outputs": [
        {
          "output_type": "stream",
          "name": "stdout",
          "text": [
            "       carat  cut  color  clarity  depth  table     x     y     z\n",
            "31225   0.32    3      7        3   63.5   55.0  4.35  4.31  2.75\n",
            "30184   0.31    5      6        5   61.2   55.0  4.40  4.43  2.70\n",
            "28941   0.30    5      4        6   62.7   57.0  4.26  4.29  2.68\n",
            "40571   0.40    5      7        6   61.4   56.0  4.80  4.75  2.93\n",
            "4819    0.91    3      2        3   62.8   57.0  6.09  6.18  3.85\n",
            "------------------------------------------------------------------------\n",
            "       carat  cut  color  clarity  depth  table     x     y     z\n",
            "14402   1.06    4      7        3   59.4   57.0  6.72  6.65  3.97\n",
            "29551   0.25    5      6        6   61.7   56.0  4.05  4.07  2.50\n",
            "47807   0.57    3      5        6   63.2   56.0  5.28  5.32  3.35\n",
            "31088   0.33    3      4        6   60.0   63.0  4.45  4.49  2.68\n",
            "5726    0.27    3      7        6   64.6   53.0  4.04  4.10  2.63\n",
            "------------------------------------------------------------------------\n",
            "       carat  cut  color  clarity  depth  table     x     y     z\n",
            "16646   1.22    5      3        3   61.8   57.0  6.83  6.85  4.23\n",
            "36056   0.31    4      4        8   61.0   59.0  4.33  4.36  2.65\n",
            "38132   0.30    3      4        7   63.1   58.0  4.31  4.28  2.71\n",
            "7969    0.70    5      7        5   61.5   57.0  5.68  5.71  3.50\n",
            "24928   1.71    4      3        4   62.5   58.0  7.64  7.52  4.74\n"
          ]
        }
      ]
    },
    {
      "cell_type": "markdown",
      "source": [
        "####Escalar datos"
      ],
      "metadata": {
        "id": "d1IMa8PmOfA8"
      }
    },
    {
      "cell_type": "code",
      "source": [
        "from sklearn.preprocessing import RobustScaler\n",
        "# Escalar datos\n",
        "transformer = RobustScaler().fit(X_train)\n",
        "#Se deben escalar tanto train como test\n",
        "X_train = transformer.transform( X_train)\n",
        "X_test = transformer.transform( X_test)\n",
        "X_val = transformer.transform( X_val)\n",
        "print(\"Primeros X_train: \", X_train[0:2])\n",
        "print(\"Primeros X_test: \", X_test[0:2])\n",
        "print(\"Primeros X_val: \", X_val[0:2])"
      ],
      "metadata": {
        "colab": {
          "base_uri": "https://localhost:8080/"
        },
        "id": "wsThET5MOePw",
        "outputId": "5e6ad3a9-2e57-42dd-d40b-84ff9a290b07"
      },
      "execution_count": 73,
      "outputs": [
        {
          "output_type": "stream",
          "name": "stdout",
          "text": [
            "Primeros X_train:  [[-0.59375    -0.5         1.         -0.5         1.21428571 -0.66666667\n",
            "  -0.74175824 -0.77348066 -0.69026549]\n",
            " [-0.609375    0.5         0.66666667  0.5        -0.42857143 -0.66666667\n",
            "  -0.71428571 -0.70718232 -0.73451327]]\n",
            "Primeros X_test:  [[ 0.5625      0.          1.         -0.5        -1.71428571  0.\n",
            "   0.56043956  0.51933702  0.38938053]\n",
            " [-0.703125    0.5         0.66666667  1.         -0.07142857 -0.33333333\n",
            "  -0.90659341 -0.90607735 -0.91150442]]\n",
            "Primeros X_val:  [[ 0.8125      0.5        -0.33333333 -0.5         0.          0.\n",
            "   0.62087912  0.62983425  0.61946903]\n",
            " [-0.609375    0.          0.          2.         -0.57142857  0.66666667\n",
            "  -0.75274725 -0.74585635 -0.77876106]]\n"
          ]
        }
      ]
    },
    {
      "cell_type": "markdown",
      "source": [
        "####Guardar en un archivo el dataset preprocesado"
      ],
      "metadata": {
        "id": "OoFMf_UjPU-_"
      }
    },
    {
      "cell_type": "code",
      "source": [
        "from pathlib import Path\n",
        "\n",
        "#JUNTAR XTRAIN,YTRAIN, XTEST,YTEST XVAL,YVAL\n",
        "new_columns_names = np.append(column_names,'price')\n",
        "print(new_columns_names)\n",
        "\n",
        "X_concat = np.concatenate((X_train, X_val, X_test), axis=0)\n",
        "\n",
        "Y_concat = np.concatenate((Y_train,Y_val,Y_test), axis=0)\n",
        "#Se convierte a matriz \n",
        "Y_concat = np.asmatrix(Y_concat)\n",
        "#Se agrega la columna de Y traspuestA\n",
        "data = np.concatenate((X_concat,Y_concat), axis=1)\n",
        "\n",
        "#Guardar el dataset en un csv\n",
        "X_df = pd.DataFrame(data = data, columns = new_columns_names)\n",
        "X_df.to_csv(\"diamonds_preprocessed.csv\",index=False,sep= \";\")"
      ],
      "metadata": {
        "colab": {
          "base_uri": "https://localhost:8080/"
        },
        "id": "IIi2GwAYPT6-",
        "outputId": "0b367b82-1a34-44d7-de90-e0702b54dd37"
      },
      "execution_count": 74,
      "outputs": [
        {
          "output_type": "stream",
          "name": "stdout",
          "text": [
            "['carat' 'cut' 'color' 'clarity' 'depth' 'table' 'x' 'y' 'z' 'price']\n"
          ]
        }
      ]
    },
    {
      "cell_type": "code",
      "source": [
        "X_train = pd.DataFrame(data= X_train, columns= column_names)\n",
        "X_test = pd.DataFrame(data= X_test, columns= column_names)\n",
        "X_val = pd.DataFrame(data= X_val, columns= column_names)\n",
        "Y_train = pd.DataFrame(data= Y_train, columns= ['price'])\n",
        "Y_test = pd.DataFrame(data= Y_test, columns= ['price'])\n",
        "Y_val = pd.DataFrame(data= Y_val, columns= ['price'])"
      ],
      "metadata": {
        "id": "Qj-Mty3hpiM3"
      },
      "execution_count": 76,
      "outputs": []
    },
    {
      "cell_type": "markdown",
      "source": [
        "##2. Red neuronal "
      ],
      "metadata": {
        "id": "S-E7UxYZFXam"
      }
    },
    {
      "cell_type": "code",
      "source": [
        "import tensorflow as tf\n",
        "from tensorflow import keras\n",
        "from tensorflow.keras import layers\n",
        "\n",
        "def build_model():\n",
        "  model = keras.Sequential([\n",
        "    layers.Dense(64, activation='relu', input_shape=[9]),\n",
        "    layers.Dense(64, activation='relu'),\n",
        "    layers.Dense(1, activation='softmax')\n",
        "  ])\n",
        "\n",
        "  optimizer = tf.keras.optimizers.RMSprop(0.001) #ver que onda con learning rate \n",
        "\n",
        "  model.compile(loss='mse',\n",
        "                optimizer=optimizer,\n",
        "                metrics=['mae', 'mse'])\n",
        "  return model"
      ],
      "metadata": {
        "id": "S-YdKg0goU6p"
      },
      "execution_count": 77,
      "outputs": []
    },
    {
      "cell_type": "code",
      "source": [
        "model = build_model()"
      ],
      "metadata": {
        "id": "ahynnMV2sy2x"
      },
      "execution_count": 78,
      "outputs": []
    },
    {
      "cell_type": "code",
      "source": [
        "model.summary()"
      ],
      "metadata": {
        "colab": {
          "base_uri": "https://localhost:8080/"
        },
        "id": "Y2-q9VGbs0P_",
        "outputId": "1dcd844c-5116-4623-f33f-e08aa3817f9e"
      },
      "execution_count": 79,
      "outputs": [
        {
          "output_type": "stream",
          "name": "stdout",
          "text": [
            "Model: \"sequential_5\"\n",
            "_________________________________________________________________\n",
            " Layer (type)                Output Shape              Param #   \n",
            "=================================================================\n",
            " dense_15 (Dense)            (None, 64)                640       \n",
            "                                                                 \n",
            " dense_16 (Dense)            (None, 64)                4160      \n",
            "                                                                 \n",
            " dense_17 (Dense)            (None, 1)                 65        \n",
            "                                                                 \n",
            "=================================================================\n",
            "Total params: 4,865\n",
            "Trainable params: 4,865\n",
            "Non-trainable params: 0\n",
            "_________________________________________________________________\n"
          ]
        }
      ]
    },
    {
      "cell_type": "code",
      "source": [
        "history = model.fit(\n",
        "                    X_train,\n",
        "                    Y_train, \n",
        "                    epochs=10, \n",
        "                    validation_data=(X_val, Y_val))"
      ],
      "metadata": {
        "colab": {
          "base_uri": "https://localhost:8080/"
        },
        "id": "yp5ndvnYs4y3",
        "outputId": "8e919b77-73a7-4e7d-fb8a-5bd85d7572bc"
      },
      "execution_count": 82,
      "outputs": [
        {
          "output_type": "stream",
          "name": "stdout",
          "text": [
            "Epoch 1/10\n",
            "1012/1012 [==============================] - 4s 4ms/step - loss: 31385670.0000 - mae: 3936.5510 - mse: 31385670.0000 - val_loss: 31754992.0000 - val_mae: 3941.3215 - val_mse: 31754992.0000\n",
            "Epoch 2/10\n",
            "1012/1012 [==============================] - 3s 3ms/step - loss: 31385656.0000 - mae: 3936.5505 - mse: 31385656.0000 - val_loss: 31754992.0000 - val_mae: 3941.3215 - val_mse: 31754992.0000\n",
            "Epoch 3/10\n",
            "1012/1012 [==============================] - 4s 3ms/step - loss: 31385650.0000 - mae: 3936.5544 - mse: 31385650.0000 - val_loss: 31754992.0000 - val_mae: 3941.3215 - val_mse: 31754992.0000\n",
            "Epoch 4/10\n",
            "1012/1012 [==============================] - 4s 4ms/step - loss: 31385678.0000 - mae: 3936.5518 - mse: 31385678.0000 - val_loss: 31754992.0000 - val_mae: 3941.3215 - val_mse: 31754992.0000\n",
            "Epoch 5/10\n",
            "1012/1012 [==============================] - 4s 4ms/step - loss: 31385674.0000 - mae: 3936.5532 - mse: 31385674.0000 - val_loss: 31754992.0000 - val_mae: 3941.3215 - val_mse: 31754992.0000\n",
            "Epoch 6/10\n",
            "1012/1012 [==============================] - 3s 3ms/step - loss: 31385624.0000 - mae: 3936.5537 - mse: 31385624.0000 - val_loss: 31754992.0000 - val_mae: 3941.3215 - val_mse: 31754992.0000\n",
            "Epoch 7/10\n",
            "1012/1012 [==============================] - 4s 4ms/step - loss: 31385650.0000 - mae: 3936.5554 - mse: 31385650.0000 - val_loss: 31754992.0000 - val_mae: 3941.3215 - val_mse: 31754992.0000\n",
            "Epoch 8/10\n",
            "1012/1012 [==============================] - 4s 4ms/step - loss: 31385662.0000 - mae: 3936.5535 - mse: 31385662.0000 - val_loss: 31754992.0000 - val_mae: 3941.3215 - val_mse: 31754992.0000\n",
            "Epoch 9/10\n",
            "1012/1012 [==============================] - 4s 3ms/step - loss: 31385648.0000 - mae: 3936.5527 - mse: 31385648.0000 - val_loss: 31754992.0000 - val_mae: 3941.3215 - val_mse: 31754992.0000\n",
            "Epoch 10/10\n",
            "1012/1012 [==============================] - 4s 4ms/step - loss: 31385640.0000 - mae: 3936.5530 - mse: 31385640.0000 - val_loss: 31754992.0000 - val_mae: 3941.3215 - val_mse: 31754992.0000\n"
          ]
        }
      ]
    },
    {
      "cell_type": "code",
      "source": [
        "history.history"
      ],
      "metadata": {
        "colab": {
          "base_uri": "https://localhost:8080/"
        },
        "id": "X5kCZvnoV1Wf",
        "outputId": "730ac49f-caa3-4fec-87d2-f9d38b1ba4f6"
      },
      "execution_count": 87,
      "outputs": [
        {
          "output_type": "execute_result",
          "data": {
            "text/plain": [
              "{'loss': [31385670.0,\n",
              "  31385656.0,\n",
              "  31385650.0,\n",
              "  31385678.0,\n",
              "  31385674.0,\n",
              "  31385624.0,\n",
              "  31385650.0,\n",
              "  31385662.0,\n",
              "  31385648.0,\n",
              "  31385640.0],\n",
              " 'mae': [3936.551025390625,\n",
              "  3936.550537109375,\n",
              "  3936.554443359375,\n",
              "  3936.5517578125,\n",
              "  3936.55322265625,\n",
              "  3936.5537109375,\n",
              "  3936.555419921875,\n",
              "  3936.553466796875,\n",
              "  3936.552734375,\n",
              "  3936.552978515625],\n",
              " 'mse': [31385670.0,\n",
              "  31385656.0,\n",
              "  31385650.0,\n",
              "  31385678.0,\n",
              "  31385674.0,\n",
              "  31385624.0,\n",
              "  31385650.0,\n",
              "  31385662.0,\n",
              "  31385648.0,\n",
              "  31385640.0],\n",
              " 'val_loss': [31754992.0,\n",
              "  31754992.0,\n",
              "  31754992.0,\n",
              "  31754992.0,\n",
              "  31754992.0,\n",
              "  31754992.0,\n",
              "  31754992.0,\n",
              "  31754992.0,\n",
              "  31754992.0,\n",
              "  31754992.0],\n",
              " 'val_mae': [3941.321533203125,\n",
              "  3941.321533203125,\n",
              "  3941.321533203125,\n",
              "  3941.321533203125,\n",
              "  3941.321533203125,\n",
              "  3941.321533203125,\n",
              "  3941.321533203125,\n",
              "  3941.321533203125,\n",
              "  3941.321533203125,\n",
              "  3941.321533203125],\n",
              " 'val_mse': [31754992.0,\n",
              "  31754992.0,\n",
              "  31754992.0,\n",
              "  31754992.0,\n",
              "  31754992.0,\n",
              "  31754992.0,\n",
              "  31754992.0,\n",
              "  31754992.0,\n",
              "  31754992.0,\n",
              "  31754992.0]}"
            ]
          },
          "metadata": {},
          "execution_count": 87
        }
      ]
    },
    {
      "cell_type": "code",
      "source": [
        "import pandas as pd\n",
        "import matplotlib.pyplot as plt\n",
        "\n",
        "pd.DataFrame(history.history).plot(figsize=(10, 7))\n",
        "plt.grid(True)\n",
        "plt.gca().set_ylim(0, 100)\n",
        "plt.xlabel(\"epochs\")\n",
        "plt.show()"
      ],
      "metadata": {
        "colab": {
          "base_uri": "https://localhost:8080/",
          "height": 446
        },
        "id": "F1t37rgZTlOo",
        "outputId": "5692f446-6be1-46d3-d55f-71c246ac2ab2"
      },
      "execution_count": 86,
      "outputs": [
        {
          "output_type": "display_data",
          "data": {
            "text/plain": [
              "<Figure size 720x504 with 1 Axes>"
            ],
            "image/png": "[encoded data removed]"
          },
          "metadata": {
            "needs_background": "light"
          }
        }
      ]
    }
  ],
  "metadata": {
    "accelerator": "GPU",
    "colab": {
      "collapsed_sections": [],
      "name": "2022-1-Trabajo_Practico_04_NataliaVargas_FabricioElizondo.ipynb",
      "provenance": [],
      "include_colab_link": true
    },
    "kernelspec": {
      "display_name": "Python 3 (ipykernel)",
      "language": "python",
      "name": "python3"
    },
    "language_info": {
      "codemirror_mode": {
        "name": "ipython",
        "version": 3
      },
      "file_extension": ".py",
      "mimetype": "text/x-python",
      "name": "python",
      "nbconvert_exporter": "python",
      "pygments_lexer": "ipython3",
      "version": "3.7.13"
    }
  },
  "nbformat": 4,
  "nbformat_minor": 0
}