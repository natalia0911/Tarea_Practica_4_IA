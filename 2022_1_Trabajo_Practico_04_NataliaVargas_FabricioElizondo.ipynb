{
  "cells": [
    {
      "cell_type": "markdown",
      "metadata": {
        "id": "view-in-github",
        "colab_type": "text"
      },
      "source": [
        "<a href=\"https://colab.research.google.com/github/natalia0911/Tarea_Practica_4_IA/blob/main/2022_1_Trabajo_Practico_04_NataliaVargas_FabricioElizondo.ipynb\" target=\"_parent\"><img src=\"https://colab.research.google.com/assets/colab-badge.svg\" alt=\"Open In Colab\"/></a>"
      ]
    },
    {
      "cell_type": "markdown",
      "metadata": {
        "id": "Y5zYLAE8LTvr"
      },
      "source": [
        "**Instituto Tecnológico de Costa Rica**\n",
        "\n",
        "**Escuela de Ingeniería en Computación**\n",
        "\n",
        "**Curso: Inteligencia Artificial**\n",
        "\n",
        "**Primer Semestre 2022**\n",
        "\n",
        "**Profesor: Luis-Alexander Calvo-Valverde**\n",
        "\n",
        "**Trabajo Práctico:** 04\n",
        "\n",
        "**Datos de la entrega:** Martes 14 de junio 2022, a más tardar a las 11:59 pm\n",
        "\n",
        "**Estudiantes:**\n",
        "- Natalia Vanessa Vargas Reyes\n",
        "- Fabricio Antonio Elizondo Fernández\n"
      ]
    },
    {
      "cell_type": "markdown",
      "metadata": {
        "id": "oADkSnEZrvyz"
      },
      "source": [
        "# Experimentación con regresión en redes neuronales artificiales\n",
        "\n",
        "Indicaciones generales que deben seguir:\n",
        "1. Se le proporcionan el conjunto de datos y un archivo de texto con una breve explicación de las columnas (esta es la versión del dataset que debe usar, no busque similares en internet).\n",
        "1. Realizarán regresión y el atributo a predecir es: **price**.\n",
        "1. Para que vayan experimentando lo que se vive en esta disciplina, Ustedes deben ir tomando las decisiones en el proceso y documentarlas en celdas de texto y además su código debe venir ampliamente comentado. Recuerden que el profesor hace de cliente por si tienen dudas. \n",
        "1. Deben dividir el dataset en tres conjuntos de datos: train (60%), validation (20%) y test (20%).\n",
        "1. La red propuesta debe tener al menos dos capas ocultas.\n",
        "1. Ustedes proponen el diseño experimental (quiero ver qué han entendido de este concepto fundamental en data science).\n",
        "1. Deben utilizar **una de estas dos herramientas** para dar seguimiento a los resultados en el caso de la red neuronal artificial: \n",
        "    1. https://www.wandb.com/\n",
        "    1. https://www.comet.ml/site/\n",
        "\n",
        "\n",
        "Criterios de evaluación:\n",
        "1. Deben presentar una implementación completa, en una de estas opciones: pytorch, tensorflow o keras (Claro que pueden usar numpy, pandas y otras bibliotecas más, para todo el tema de carga del dataset, analizarlo y pre-procesarlo). (**55 puntos**)\n",
        "1. Uso de herramienta de seguimiento de resultados. (**10 puntos**)\n",
        "1. Documentación de decisiones en celdas de texto y comentarios al código. (**20 puntos**)\n",
        "1. Conclusiones finales: En una celda de código al final del cuaderno, incluya sus conclusiones más importantes del experimento y algunos de los gráficos que genera la herramienta seleccionada, junto con su interpretación de los mismos. (**15 puntos**)"
      ]
    },
    {
      "cell_type": "markdown",
      "metadata": {
        "id": "Sx46HlCnnw5r"
      },
      "source": [
        "##1. Preprocesamiento"
      ]
    },
    {
      "cell_type": "markdown",
      "metadata": {
        "id": "o-aBYuNiALgj"
      },
      "source": [
        "Para el preprocesamiento vamos a hacer lo más importante para tener datos de mejor calidad, eso es revisar si tenermos datos atípicos, si hay faltantes, cómo se comportan los datos, codificar según sea el caso, e incluso escalar datos."
      ]
    },
    {
      "cell_type": "code",
      "execution_count": 1,
      "metadata": {
        "id": "6i1JTgf8qC0R"
      },
      "outputs": [],
      "source": [
        "%matplotlib inline\n",
        "import pandas as pd\n",
        "import math\n",
        "import matplotlib.pyplot as plt\n",
        "import numpy as np"
      ]
    },
    {
      "cell_type": "code",
      "execution_count": null,
      "metadata": {
        "id": "3kMleO6BoB71"
      },
      "outputs": [],
      "source": [
        "from google.colab import drive\n",
        "drive.mount('/content/drive')"
      ]
    },
    {
      "cell_type": "code",
      "execution_count": null,
      "metadata": {
        "colab": {
          "base_uri": "https://localhost:8080/"
        },
        "id": "8OZ_rFoRqfls",
        "outputId": "aef56732-6b2f-4a40-eae6-ac3c60f6b5f9"
      },
      "outputs": [
        {
          "name": "stdout",
          "output_type": "stream",
          "text": [
            "   id  carat      cut color clarity  depth  table  price     x     y     z\n",
            "0   1   0.23    Ideal     E     SI2   61.5   55.0    326  3.95  3.98  2.43\n",
            "1   2   0.21  Premium     E     SI1   59.8   61.0    326  3.89  3.84  2.31\n",
            "2   3   0.23     Good     E     VS1   56.9   65.0    327  4.05  4.07  2.31\n",
            "3   4   0.29  Premium     I     VS2   62.4   58.0    334  4.20  4.23  2.63\n",
            "4   5   0.31     Good     J     SI2   63.3   58.0    335  4.34  4.35  2.75\n",
            "53940\n"
          ]
        }
      ],
      "source": [
        "diamonds_df = pd.read_csv('/content/drive/MyDrive/1 SEMESTRE 2022/IA/Trabajo Práctico 4/diamonds.csv', header = 0, delimiter=',')  \n",
        "#diamonds_df = pd.read_csv('diamonds.csv', header = 0, delimiter=',')\n",
        "#print(dataset.describe())\n",
        "print(diamonds_df.head(5))\n",
        "#Ver las filas\n",
        "print(diamonds_df.shape[0])"
      ]
    },
    {
      "cell_type": "code",
      "execution_count": null,
      "metadata": {
        "colab": {
          "base_uri": "https://localhost:8080/"
        },
        "id": "L5-wwoRiCYD0",
        "outputId": "7fe16784-83f7-4cad-e679-3b91dede8114"
      },
      "outputs": [
        {
          "name": "stdout",
          "output_type": "stream",
          "text": [
            "id           int64\n",
            "carat      float64\n",
            "cut         object\n",
            "color       object\n",
            "clarity     object\n",
            "depth      float64\n",
            "table      float64\n",
            "price        int64\n",
            "x          float64\n",
            "y          float64\n",
            "z          float64\n",
            "dtype: object\n"
          ]
        }
      ],
      "source": [
        "# Se realiza una comprobación del tipo de dato de cada columna\n",
        "print(diamonds_df.dtypes)"
      ]
    },
    {
      "cell_type": "markdown",
      "metadata": {
        "id": "vvj9xt0iJ_hd"
      },
      "source": [
        "####Histogramas\n",
        "A continuación se muestran histogramas de los atributos. Esto nos permitirá ver las distribuciones de los mismos, y determinar cuales son ordinales o categoricos, de manera que más adelante se puedan tomar las medidas del caso codificando esos determinados atributos."
      ]
    },
    {
      "cell_type": "code",
      "execution_count": null,
      "metadata": {
        "colab": {
          "base_uri": "https://localhost:8080/",
          "height": 529
        },
        "id": "CaB7Ht1NCnZs",
        "outputId": "8b623359-05ba-4bd2-f724-cfbb6a9ccdca"
      },
      "outputs": [
        {
          "data": {
            "image/png": "[encoded data removed]",
            "text/plain": [
              "<Figure size 1440x504 with 10 Axes>"
            ]
          },
          "metadata": {},
          "output_type": "display_data"
        }
      ],
      "source": [
        "# Se grafican cada uno de los atributos utilizando un histrograma\n",
        "fig, axs = plt.subplots(2, 5, constrained_layout=True, figsize=(20,7))\n",
        "fig.suptitle('Histograma de cada atributo', fontsize=16)\n",
        "\n",
        "d = 1\n",
        "for i in range(2):\n",
        "  for j in range(5):\n",
        "    axs[i,j].set_title(diamonds_df.columns[d])\n",
        "    diamonds_df.iloc[:, d].hist(ax=axs[i,j], color='skyblue')\n",
        "    d += 1\n",
        "\n",
        "plt.show()"
      ]
    },
    {
      "cell_type": "markdown",
      "metadata": {
        "id": "W_irjA3fJwP1"
      },
      "source": [
        "Como podemos observar en la gráficas, tenemos una variables que puedan ser ordinaria, que es el caso de cut y tenemos 2 que son binarias, en este caso son color y clarity. Estas se deberán codificar para tratarlas como números. "
      ]
    },
    {
      "cell_type": "markdown",
      "metadata": {
        "id": "NzVPfMqoZWij"
      },
      "source": [
        "####Verificar outliers\n",
        "Con diagramas de cajas podemos verificar visualmente si se encuentran valores que son outliers, es decir que se alejen de la media. \n",
        "En este caso solo mostramos los valores que no de tipo Object. "
      ]
    },
    {
      "cell_type": "code",
      "execution_count": null,
      "metadata": {
        "colab": {
          "base_uri": "https://localhost:8080/",
          "height": 601
        },
        "id": "XGT2_PCJOgxs",
        "outputId": "0cf7e2fb-68f3-4a2c-e75d-257b40fa9705"
      },
      "outputs": [
        {
          "data": {
            "image/png": "[encoded data removed]",
            "text/plain": [
              "<Figure size 1080x576 with 8 Axes>"
            ]
          },
          "metadata": {},
          "output_type": "display_data"
        }
      ],
      "source": [
        "# Se grafica con un boxplot cada uno de los atributos del dataset\n",
        "fig, axs = plt.subplots(2, 4, constrained_layout=True, figsize=(15,8))\n",
        "fig.suptitle('Boxplot por atributo', fontsize=16)\n",
        "\n",
        "invalid = [1,5,6,7,8,9,10] #10\n",
        "index = 0\n",
        "for i in range(2):\n",
        "  for j in range(4):\n",
        "    if not((i,j)==(1,3)):\n",
        "      axs[i,j].set_title(diamonds_df.columns[invalid[index]])\n",
        "      axs[i,j].boxplot(diamonds_df.iloc[:,invalid[index]])\n",
        "    index+=1\n",
        "    \n"
      ]
    },
    {
      "cell_type": "markdown",
      "metadata": {
        "id": "0BBWFaprYx-d"
      },
      "source": [
        "####Verificar valores faltantes\n",
        "Hacemos un conteo de las filas que hay en el dataset y también de los filas para cada atributo, con la función count, que me devuelve solamente la cantidad de celdas no vacías."
      ]
    },
    {
      "cell_type": "code",
      "execution_count": null,
      "metadata": {
        "colab": {
          "base_uri": "https://localhost:8080/"
        },
        "id": "BPstBxvBXznU",
        "outputId": "d31344ce-e78a-4945-e5d9-d21a1f4acc6e"
      },
      "outputs": [
        {
          "name": "stdout",
          "output_type": "stream",
          "text": [
            "Cantidad de muestras  53940 \n",
            "\n",
            "id         53940\n",
            "carat      53940\n",
            "cut        53940\n",
            "color      53940\n",
            "clarity    53940\n",
            "depth      53940\n",
            "table      53940\n",
            "price      53940\n",
            "x          53940\n",
            "y          53940\n",
            "z          53940\n",
            "dtype: int64\n"
          ]
        }
      ],
      "source": [
        "print(\"Cantidad de muestras \",len(diamonds_df), \"\\n\")\n",
        "print(diamonds_df.count())"
      ]
    },
    {
      "cell_type": "markdown",
      "metadata": {
        "id": "inJg53QvbmCS"
      },
      "source": [
        "####Análisis de los outliers\n",
        "Se crea una función que nos permite comprobar cuáles son los outliers para una determinado atributo. \n",
        "Sin embargo después de ver todos los valores resultantes y sabiendo que:\n",
        "+ price (\\$326--\\$18,823)\n",
        "+ carat (0.2--5.01)\n",
        "+ x (0--10.74)\n",
        "+ y (0--58.9)\n",
        "+ z (0--31.8)\n",
        "+ depth (43--79)\n",
        "+ table (43--95)\n",
        "\n",
        "Concluimos que no hay valores que debamos eliminar, porque todos entran en el rango de lo permitido, por lo que realmente no se debe considerar como outlier."
      ]
    },
    {
      "cell_type": "code",
      "execution_count": null,
      "metadata": {
        "id": "4edUCcY9a9gg"
      },
      "outputs": [],
      "source": [
        "def printOutliers(data):\n",
        "  print(\"---------------- Resumen Estadístico de la variable ----------------\")\n",
        "  print(data.describe())\n",
        "\n",
        "  values = data.iloc[:, 0]\n",
        "  print(\"------------------------- Ver outliers -----------------------------\")\n",
        "  #Imprimir valores que se encuentren entre dichos cuartiles\n",
        "  print(values[values.between(values.quantile(0), values.quantile(.003))] )\n",
        "  print(\"-----------------------------------------------\")\n",
        "  print(values[values.between(values.quantile(.997), values.quantile(1))] )"
      ]
    },
    {
      "cell_type": "code",
      "execution_count": null,
      "metadata": {
        "colab": {
          "base_uri": "https://localhost:8080/"
        },
        "id": "XmNDfZNKekXY",
        "outputId": "16dcf8fc-f6b6-4b30-b040-b5d72bc12596"
      },
      "outputs": [
        {
          "name": "stdout",
          "output_type": "stream",
          "text": [
            "---------------- Resumen Estadístico de la variable ----------------\n",
            "              carat\n",
            "count  53940.000000\n",
            "mean       0.797940\n",
            "std        0.474011\n",
            "min        0.200000\n",
            "25%        0.400000\n",
            "50%        0.700000\n",
            "75%        1.040000\n",
            "max        5.010000\n",
            "------------------------- Ver outliers -----------------------------\n",
            "0        0.23\n",
            "1        0.21\n",
            "2        0.23\n",
            "8        0.22\n",
            "9        0.23\n",
            "         ... \n",
            "52302    0.23\n",
            "52303    0.23\n",
            "52304    0.23\n",
            "52310    0.23\n",
            "52314    0.23\n",
            "Name: carat, Length: 319, dtype: float64\n",
            "-----------------------------------------------\n",
            "15684    2.49\n",
            "16283    3.00\n",
            "17196    2.72\n",
            "19081    2.50\n",
            "19339    3.01\n",
            "         ... \n",
            "27684    3.01\n",
            "27685    3.01\n",
            "27727    2.61\n",
            "27731    2.55\n",
            "27739    2.80\n",
            "Name: carat, Length: 165, dtype: float64\n"
          ]
        }
      ],
      "source": [
        "data = pd.DataFrame(diamonds_df.carat)\n",
        "printOutliers(data)"
      ]
    },
    {
      "cell_type": "code",
      "execution_count": null,
      "metadata": {
        "colab": {
          "base_uri": "https://localhost:8080/"
        },
        "id": "Sf0LwWtNcpvO",
        "outputId": "35b80a6d-5e1d-4c4e-d4eb-729158f2730f"
      },
      "outputs": [
        {
          "name": "stdout",
          "output_type": "stream",
          "text": [
            "---------------- Resumen Estadístico de la variable ----------------\n",
            "              depth\n",
            "count  53940.000000\n",
            "mean      61.749405\n",
            "std        1.432621\n",
            "min       43.000000\n",
            "25%       61.000000\n",
            "50%       61.800000\n",
            "75%       62.500000\n",
            "max       79.000000\n",
            "------------------------- Ver outliers -----------------------------\n",
            "91       55.1\n",
            "227      55.1\n",
            "423      55.0\n",
            "440      56.0\n",
            "443      53.1\n",
            "         ... \n",
            "52474    55.5\n",
            "53064    56.5\n",
            "53542    54.7\n",
            "53756    55.6\n",
            "53757    55.4\n",
            "Name: depth, Length: 166, dtype: float64\n",
            "-----------------------------------------------\n",
            "204      67.9\n",
            "298      67.4\n",
            "352      67.3\n",
            "385      68.1\n",
            "714      67.8\n",
            "         ... \n",
            "52861    79.0\n",
            "52993    67.7\n",
            "53434    67.6\n",
            "53540    72.9\n",
            "53800    68.7\n",
            "Name: depth, Length: 169, dtype: float64\n"
          ]
        }
      ],
      "source": [
        "data = pd.DataFrame(diamonds_df.depth)\n",
        "printOutliers(data)"
      ]
    },
    {
      "cell_type": "code",
      "execution_count": null,
      "metadata": {
        "colab": {
          "base_uri": "https://localhost:8080/"
        },
        "id": "RZsrwfKSc3o0",
        "outputId": "cf2fa86c-a296-482b-9513-e84dda94fee7"
      },
      "outputs": [
        {
          "name": "stdout",
          "output_type": "stream",
          "text": [
            "---------------- Resumen Estadístico de la variable ----------------\n",
            "              table\n",
            "count  53940.000000\n",
            "mean      57.457184\n",
            "std        2.234491\n",
            "min       43.000000\n",
            "25%       56.000000\n",
            "50%       57.000000\n",
            "75%       59.000000\n",
            "max       95.000000\n",
            "------------------------- Ver outliers -----------------------------\n",
            "115      53.0\n",
            "243      52.0\n",
            "593      53.0\n",
            "612      53.0\n",
            "630      53.0\n",
            "         ... \n",
            "53657    53.0\n",
            "53688    52.0\n",
            "53706    53.0\n",
            "53771    53.0\n",
            "53881    53.0\n",
            "Name: table, Length: 643, dtype: float64\n",
            "-----------------------------------------------\n",
            "91       69.0\n",
            "227      67.0\n",
            "296      66.0\n",
            "314      70.0\n",
            "356      66.0\n",
            "         ... \n",
            "52865    66.0\n",
            "53064    68.0\n",
            "53154    66.0\n",
            "53542    67.0\n",
            "53660    67.0\n",
            "Name: table, Length: 180, dtype: float64\n"
          ]
        }
      ],
      "source": [
        "data = pd.DataFrame(diamonds_df.table)\n",
        "printOutliers(data)"
      ]
    },
    {
      "cell_type": "code",
      "execution_count": null,
      "metadata": {
        "colab": {
          "base_uri": "https://localhost:8080/"
        },
        "id": "3HOf0yECc7JA",
        "outputId": "fbcf3a66-7288-4836-f0e9-3d8d847371f4"
      },
      "outputs": [
        {
          "name": "stdout",
          "output_type": "stream",
          "text": [
            "---------------- Resumen Estadístico de la variable ----------------\n",
            "              price\n",
            "count  53940.000000\n",
            "mean    3932.799722\n",
            "std     3989.439738\n",
            "min      326.000000\n",
            "25%      950.000000\n",
            "50%     2401.000000\n",
            "75%     5324.250000\n",
            "max    18823.000000\n",
            "------------------------- Ver outliers -----------------------------\n",
            "0        326\n",
            "1        326\n",
            "2        327\n",
            "3        334\n",
            "4        335\n",
            "        ... \n",
            "41595    391\n",
            "41596    391\n",
            "41597    391\n",
            "41598    391\n",
            "41599    391\n",
            "Name: price, Length: 170, dtype: int64\n",
            "-----------------------------------------------\n",
            "27558    18359\n",
            "27559    18363\n",
            "27560    18364\n",
            "27561    18369\n",
            "27562    18371\n",
            "         ...  \n",
            "27745    18803\n",
            "27746    18804\n",
            "27747    18806\n",
            "27748    18818\n",
            "27749    18823\n",
            "Name: price, Length: 162, dtype: int64\n"
          ]
        }
      ],
      "source": [
        "data = pd.DataFrame(diamonds_df.price)\n",
        "printOutliers(data)"
      ]
    },
    {
      "cell_type": "code",
      "execution_count": null,
      "metadata": {
        "colab": {
          "base_uri": "https://localhost:8080/"
        },
        "id": "4kEEsjgAc8DO",
        "outputId": "724fed6b-080c-496e-e585-1d32354ddbf1"
      },
      "outputs": [
        {
          "name": "stdout",
          "output_type": "stream",
          "text": [
            "---------------- Resumen Estadístico de la variable ----------------\n",
            "                  x\n",
            "count  53940.000000\n",
            "mean       5.731157\n",
            "std        1.121761\n",
            "min        0.000000\n",
            "25%        4.710000\n",
            "50%        5.700000\n",
            "75%        6.540000\n",
            "max       10.740000\n",
            "------------------------- Ver outliers -----------------------------\n",
            "1        3.89\n",
            "8        3.87\n",
            "11       3.93\n",
            "12       3.88\n",
            "14       3.79\n",
            "         ... \n",
            "50639    3.90\n",
            "52643    3.92\n",
            "52957    3.93\n",
            "52960    3.92\n",
            "52967    3.93\n",
            "Name: x, Length: 186, dtype: float64\n",
            "-----------------------------------------------\n",
            "16283    9.23\n",
            "17097    8.75\n",
            "17897    8.71\n",
            "19339    9.10\n",
            "19346    8.93\n",
            "         ... \n",
            "27685    9.41\n",
            "27726    8.69\n",
            "27727    8.85\n",
            "27731    8.70\n",
            "27739    8.90\n",
            "Name: x, Length: 166, dtype: float64\n"
          ]
        }
      ],
      "source": [
        "data = pd.DataFrame(diamonds_df.x)\n",
        "printOutliers(data)"
      ]
    },
    {
      "cell_type": "code",
      "execution_count": null,
      "metadata": {
        "colab": {
          "base_uri": "https://localhost:8080/"
        },
        "id": "lxEM-FV3c8xo",
        "outputId": "f651e860-f466-4ee1-c129-f3abbeacf4bc"
      },
      "outputs": [
        {
          "name": "stdout",
          "output_type": "stream",
          "text": [
            "---------------- Resumen Estadístico de la variable ----------------\n",
            "                  y\n",
            "count  53940.000000\n",
            "mean       5.734526\n",
            "std        1.142135\n",
            "min        0.000000\n",
            "25%        4.720000\n",
            "50%        5.710000\n",
            "75%        6.540000\n",
            "max       58.900000\n",
            "------------------------- Ver outliers -----------------------------\n",
            "1        3.84\n",
            "5        3.96\n",
            "8        3.78\n",
            "11       3.90\n",
            "12       3.84\n",
            "         ... \n",
            "50634    3.89\n",
            "52302    3.96\n",
            "52310    3.95\n",
            "52960    3.93\n",
            "52967    3.96\n",
            "Name: y, Length: 200, dtype: float64\n",
            "-----------------------------------------------\n",
            "16283     9.10\n",
            "17097     8.69\n",
            "19339     8.97\n",
            "19346     8.84\n",
            "19866     9.07\n",
            "         ...  \n",
            "27726     8.75\n",
            "27727     8.73\n",
            "27731     8.65\n",
            "27739     8.85\n",
            "49189    31.80\n",
            "Name: y, Length: 166, dtype: float64\n"
          ]
        }
      ],
      "source": [
        "data = pd.DataFrame(diamonds_df.y)\n",
        "printOutliers(data)"
      ]
    },
    {
      "cell_type": "code",
      "execution_count": null,
      "metadata": {
        "colab": {
          "base_uri": "https://localhost:8080/"
        },
        "id": "Cdr_1IXUewFe",
        "outputId": "d218e95d-d942-43d3-a41f-42d4a9027ad5"
      },
      "outputs": [
        {
          "name": "stdout",
          "output_type": "stream",
          "text": [
            "---------------- Resumen Estadístico de la variable ----------------\n",
            "                  z\n",
            "count  53940.000000\n",
            "mean       3.538734\n",
            "std        0.705699\n",
            "min        0.000000\n",
            "25%        2.910000\n",
            "50%        3.530000\n",
            "75%        4.040000\n",
            "max       31.800000\n",
            "------------------------- Ver outliers -----------------------------\n",
            "1        2.31\n",
            "2        2.31\n",
            "9        2.39\n",
            "12       2.33\n",
            "14       2.27\n",
            "         ... \n",
            "52953    2.40\n",
            "52954    2.41\n",
            "52955    2.40\n",
            "52956    2.39\n",
            "52975    2.40\n",
            "Name: z, Length: 192, dtype: float64\n",
            "-----------------------------------------------\n",
            "13002     5.36\n",
            "13757     5.36\n",
            "14138     5.43\n",
            "15684     5.45\n",
            "16283     5.77\n",
            "         ...  \n",
            "27684     5.64\n",
            "27685     5.59\n",
            "27727     5.46\n",
            "27731     5.36\n",
            "48410    31.80\n",
            "Name: z, Length: 169, dtype: float64\n"
          ]
        }
      ],
      "source": [
        "data = pd.DataFrame(diamonds_df.z)\n",
        "printOutliers(data)"
      ]
    },
    {
      "cell_type": "markdown",
      "metadata": {
        "id": "ChWJxdZx4b3L"
      },
      "source": [
        "####Separar en Train 60%, Test 20% y Validation 20%\n",
        "Se van a se separar los datos en dichas proporciones, esto para evitar overfitting probar las predicciones sabiendo que nuestro modelo no sabe de manera tan precisa nuestras respuestas."
      ]
    },
    {
      "cell_type": "code",
      "execution_count": null,
      "metadata": {
        "colab": {
          "base_uri": "https://localhost:8080/"
        },
        "id": "NJ1-zk_b4aQJ",
        "outputId": "7c55c482-b1d7-4d28-9226-4b08f6d4c628"
      },
      "outputs": [
        {
          "name": "stdout",
          "output_type": "stream",
          "text": [
            "\n",
            "Muestra fila 1 de X: \n",
            "    id  carat    cut color clarity  depth  table     x     y     z\n",
            "0   1   0.23  Ideal     E     SI2   61.5   55.0  3.95  3.98  2.43\n",
            "\n",
            "Muestra fila 1 de Y: \n",
            "    price\n",
            "0    326\n",
            "\n",
            "Cantidad de muestras:  53940\n",
            "\n",
            "Cantidad de atributos (incluye y):  11\n",
            "53940 53940\n"
          ]
        }
      ],
      "source": [
        "#Separar los datos en X y Y, donde Y es la variable que queremos predecir\n",
        "my_data = diamonds_df.copy()\n",
        "x = my_data.drop(['price'], axis=1)\n",
        "cantidad_muestras = len(my_data)\n",
        "y = pd.DataFrame(my_data, columns = ['price'])\n",
        "\n",
        "print(\"\\nMuestra fila 1 de X: \\n\", x[0:1])\n",
        "print(\"\\nMuestra fila 1 de Y: \\n\", y[0:1])\n",
        "print(\"\\nCantidad de muestras: \", len(my_data))\n",
        "print(\"\\nCantidad de atributos (incluye y): \", my_data.shape[1])\n",
        "print(len(x), len(y))"
      ]
    },
    {
      "cell_type": "code",
      "execution_count": null,
      "metadata": {
        "colab": {
          "base_uri": "https://localhost:8080/"
        },
        "id": "oE0M11AG9apZ",
        "outputId": "ed31d016-28ac-4981-d712-5e799f434bdc"
      },
      "outputs": [
        {
          "name": "stdout",
          "output_type": "stream",
          "text": [
            "\n",
            "Tamaño de X_train + X_val  + X_test :  53940\n",
            "\n",
            "Tamaño del train:  32364\n",
            "\n",
            "Tamaño del test:  10788\n",
            "\n",
            "Tamaño del validation:  10788\n",
            "\n",
            "Primer elemento del X_train:\n",
            "          id  carat        cut color clarity  depth  table     x     y     z\n",
            "31225  31226   0.32  Very Good     D     SI1   63.5   55.0  4.35  4.31  2.75\n",
            "\n",
            "Primer elemento del X_test:\n",
            "          id  carat      cut color clarity  depth  table     x     y     z\n",
            "14402  14403   1.06  Premium     D     SI1   59.4   57.0  6.72  6.65  3.97\n",
            "\n",
            "Primer elemento del X_val:\n",
            "          id  carat    cut color clarity  depth  table     x     y     z\n",
            "16646  16647   1.22  Ideal     H     SI1   61.8   57.0  6.83  6.85  4.23\n",
            "\n",
            "Primer elemento del y_train:\n",
            "       price\n",
            "31225    756\n",
            "\n",
            "Primer elemento del y_test:\n",
            "       price\n",
            "14402   5817\n",
            "\n",
            "Primer elemento del y_val:\n",
            "       price\n",
            "16646   6654\n"
          ]
        }
      ],
      "source": [
        "from sklearn.model_selection import train_test_split\n",
        "#Se divide el conjunto de datos en Train, Validation y Test\n",
        "X_train, X_test, Y_train, Y_test = train_test_split(x, \n",
        "                                                    y, \n",
        "                                                    train_size=0.6,\n",
        "                                                    shuffle=True,     #Mezclar los datos y que se reparta aleatoriamente\n",
        "                                                    random_state=40)  #Definir una semilla para usar los mismos valores en todas las corridas\n",
        "\n",
        "X_val, X_test, Y_val, Y_test  = train_test_split(   X_test, \n",
        "                                                    Y_test, \n",
        "                                                    test_size=0.5,\n",
        "                                                    shuffle=True,     #Mezclar los datos y que se reparta aleatoriamente\n",
        "                                                    random_state=40)  #Definir una semilla para usar los mismos valores en todas las corridas\n",
        "\n",
        "print(\"\\nTamaño de X_train + X_val  + X_test : \", len(X_train)+len(X_val)+len(X_test))\n",
        "print(\"\\nTamaño del train: \", len(X_train))\n",
        "print(\"\\nTamaño del test: \", len(X_test))\n",
        "print(\"\\nTamaño del validation: \", len(X_val))\n",
        "print(\"\\nPrimer elemento del X_train:\")\n",
        "print( X_train[0:1])\n",
        "print(\"\\nPrimer elemento del X_test:\")\n",
        "print( X_test[0:1])\n",
        "print(\"\\nPrimer elemento del X_val:\")\n",
        "print( X_val[0:1])\n",
        "print(\"\\nPrimer elemento del y_train:\")\n",
        "print( Y_train[0:1])\n",
        "print(\"\\nPrimer elemento del y_test:\")\n",
        "print( Y_test[0:1])\n",
        "print(\"\\nPrimer elemento del y_val:\")\n",
        "print( Y_val[0:1])"
      ]
    },
    {
      "cell_type": "markdown",
      "metadata": {
        "id": "s7ngVXyGPpsk"
      },
      "source": [
        "####Se elimina la columna Id\n",
        "Esta columna no aporta nada a nuestro modelo, porque solo indica el número de fila, por lo que es irrelevante en regresión como lo es nuestro caso."
      ]
    },
    {
      "cell_type": "code",
      "execution_count": null,
      "metadata": {
        "id": "8SaO3vP1PlRs"
      },
      "outputs": [],
      "source": [
        "X_train = X_train.drop('id', 1)\n",
        "X_val = X_val.drop('id', 1)\n",
        "X_test = X_test.drop('id', 1)\n",
        "\n",
        "# Se almacena en una variable los valores de las nuevas columnas del arreglo X\n",
        "column_names = X_train.columns.values"
      ]
    },
    {
      "cell_type": "markdown",
      "metadata": {
        "id": "VYq09SPiInQf"
      },
      "source": [
        "####Codificar atributos ordinales\n",
        "Como lo observamos en los histogramas, y como también se nos indicó en la especificación de las variables, sabemos que tenemos algunas columnas donde algunos valores pesan más que otros, por ello mismo hacemos la codificación, pues es más fácil manejar valores numéricos. "
      ]
    },
    {
      "cell_type": "code",
      "execution_count": null,
      "metadata": {
        "colab": {
          "base_uri": "https://localhost:8080/"
        },
        "id": "OrzwSk-OIf1p",
        "outputId": "88b8190f-3138-4aac-ca56-00ed4b034b83"
      },
      "outputs": [
        {
          "name": "stdout",
          "output_type": "stream",
          "text": [
            "       carat  cut  color  clarity  depth  table     x     y     z\n",
            "31225   0.32    3      7        3   63.5   55.0  4.35  4.31  2.75\n",
            "30184   0.31    5      6        5   61.2   55.0  4.40  4.43  2.70\n",
            "28941   0.30    5      4        6   62.7   57.0  4.26  4.29  2.68\n",
            "40571   0.40    5      7        6   61.4   56.0  4.80  4.75  2.93\n",
            "4819    0.91    3      2        3   62.8   57.0  6.09  6.18  3.85\n",
            "------------------------------------------------------------------------\n",
            "       carat  cut  color  clarity  depth  table     x     y     z\n",
            "14402   1.06    4      7        3   59.4   57.0  6.72  6.65  3.97\n",
            "29551   0.25    5      6        6   61.7   56.0  4.05  4.07  2.50\n",
            "47807   0.57    3      5        6   63.2   56.0  5.28  5.32  3.35\n",
            "31088   0.33    3      4        6   60.0   63.0  4.45  4.49  2.68\n",
            "5726    0.27    3      7        6   64.6   53.0  4.04  4.10  2.63\n",
            "------------------------------------------------------------------------\n",
            "       carat  cut  color  clarity  depth  table     x     y     z\n",
            "16646   1.22    5      3        3   61.8   57.0  6.83  6.85  4.23\n",
            "36056   0.31    4      4        8   61.0   59.0  4.33  4.36  2.65\n",
            "38132   0.30    3      4        7   63.1   58.0  4.31  4.28  2.71\n",
            "7969    0.70    5      7        5   61.5   57.0  5.68  5.71  3.50\n",
            "24928   1.71    4      3        4   62.5   58.0  7.64  7.52  4.74\n"
          ]
        }
      ],
      "source": [
        "#Se crea un diccionario con los valores correspondientes para los valores de las variables ordinales\n",
        "mapping_cut = { \"Ideal\" :5,\"Premium\" :4,\"Very Good\":3, \"Good\" :2, \"Fair\":1 }   \n",
        "mapping_clarity = {\"I1\":1, \"SI2\":2, \"SI1\":3, \"VS2\":4, \"VS1\":5, \"VVS2\":6, \"VVS1\":7, \"IF\":8}\n",
        "mapping_color = {\"D\":7,\"E\":6,\"F\":5,\"G\":4,\"H\":3,\"I\":2,\"J\":1}\n",
        "\n",
        "# Se hace el reemplazo en el test, train y val\n",
        "X_test = X_test.replace(mapping_cut).replace(mapping_clarity).replace(mapping_color)\n",
        "X_train = X_train.replace(mapping_cut).replace(mapping_clarity).replace(mapping_color)\n",
        "X_val = X_val.replace(mapping_cut).replace(mapping_clarity).replace(mapping_color)\n",
        "#Se imprimen los primeros 5 de cada conjunto\n",
        "print(X_train.head(5))\n",
        "print(\"------------------------------------------------------------------------\")\n",
        "print(X_test.head(5))\n",
        "print(\"------------------------------------------------------------------------\")\n",
        "print(X_val.head(5))"
      ]
    },
    {
      "cell_type": "markdown",
      "metadata": {
        "id": "d1IMa8PmOfA8"
      },
      "source": [
        "####Escalar datos\n",
        "Decidimos usar este método para escalar los datos, ya que al usar el rango intercualitico, estarían menos distribuidos nuestros datos.  \n",
        "En este caso el escalamiento robusto no es sensible a outliers por lo que hará un mejor escalamiento para el caso de nuestro conjunto de datos. "
      ]
    },
    {
      "cell_type": "code",
      "execution_count": null,
      "metadata": {
        "colab": {
          "base_uri": "https://localhost:8080/"
        },
        "id": "wsThET5MOePw",
        "outputId": "a82ed9cb-201a-49ba-8bfa-9b0b6c000f46"
      },
      "outputs": [
        {
          "name": "stdout",
          "output_type": "stream",
          "text": [
            "Primeros X_train:  [[-0.59375    -0.5         1.         -0.5         1.21428571 -0.66666667\n",
            "  -0.74175824 -0.77348066 -0.69026549]\n",
            " [-0.609375    0.5         0.66666667  0.5        -0.42857143 -0.66666667\n",
            "  -0.71428571 -0.70718232 -0.73451327]]\n",
            "Primeros X_test:  [[ 0.5625      0.          1.         -0.5        -1.71428571  0.\n",
            "   0.56043956  0.51933702  0.38938053]\n",
            " [-0.703125    0.5         0.66666667  1.         -0.07142857 -0.33333333\n",
            "  -0.90659341 -0.90607735 -0.91150442]]\n",
            "Primeros X_val:  [[ 0.8125      0.5        -0.33333333 -0.5         0.          0.\n",
            "   0.62087912  0.62983425  0.61946903]\n",
            " [-0.609375    0.          0.          2.         -0.57142857  0.66666667\n",
            "  -0.75274725 -0.74585635 -0.77876106]]\n"
          ]
        }
      ],
      "source": [
        "from sklearn.preprocessing import RobustScaler\n",
        "# Escalar datos\n",
        "transformer = RobustScaler().fit(X_train)\n",
        "#Se deben escalar tanto train como test\n",
        "X_train = transformer.transform( X_train)\n",
        "X_test = transformer.transform( X_test)\n",
        "X_val = transformer.transform( X_val)\n",
        "print(\"Primeros X_train: \", X_train[0:2])\n",
        "print(\"Primeros X_test: \", X_test[0:2])\n",
        "print(\"Primeros X_val: \", X_val[0:2])"
      ]
    },
    {
      "cell_type": "markdown",
      "metadata": {
        "id": "OoFMf_UjPU-_"
      },
      "source": [
        "####Guardar en un archivo el dataset preprocesado"
      ]
    },
    {
      "cell_type": "code",
      "execution_count": null,
      "metadata": {
        "colab": {
          "base_uri": "https://localhost:8080/"
        },
        "id": "IIi2GwAYPT6-",
        "outputId": "42e20a54-75d4-4eeb-e993-4c46563ed62c"
      },
      "outputs": [
        {
          "name": "stdout",
          "output_type": "stream",
          "text": [
            "['carat' 'cut' 'color' 'clarity' 'depth' 'table' 'x' 'y' 'z' 'price']\n"
          ]
        }
      ],
      "source": [
        "from pathlib import Path\n",
        "\n",
        "#JUNTAR XTRAIN,YTRAIN, XTEST,YTEST XVAL,YVAL\n",
        "new_columns_names = np.append(column_names,'price')\n",
        "print(new_columns_names)\n",
        "\n",
        "X_concat = np.concatenate((X_train, X_val, X_test), axis=0)\n",
        "\n",
        "Y_concat = np.concatenate((Y_train,Y_val,Y_test), axis=0)\n",
        "#Se convierte a matriz \n",
        "Y_concat = np.asmatrix(Y_concat)\n",
        "#Se agrega la columna de Y traspuestA\n",
        "data = np.concatenate((X_concat,Y_concat), axis=1)\n",
        "\n",
        "#Guardar el dataset en un csv\n",
        "X_df = pd.DataFrame(data = data, columns = new_columns_names)\n",
        "X_df.to_csv(\"diamonds_preprocessed.csv\",index=False,sep= \";\")"
      ]
    },
    {
      "cell_type": "code",
      "execution_count": null,
      "metadata": {
        "id": "Qj-Mty3hpiM3"
      },
      "outputs": [],
      "source": [
        "#Convertimos todos los datos en dataframes, porque es el manejo es más fácil.\n",
        "X_train = pd.DataFrame(data= X_train, columns= column_names)\n",
        "X_test = pd.DataFrame(data= X_test, columns= column_names)\n",
        "X_val = pd.DataFrame(data= X_val, columns= column_names)\n",
        "Y_train = pd.DataFrame(data= Y_train, columns= ['price'])\n",
        "Y_test = pd.DataFrame(data= Y_test, columns= ['price'])\n",
        "Y_val = pd.DataFrame(data= Y_val, columns= ['price'])"
      ]
    },
    {
      "cell_type": "markdown",
      "metadata": {
        "id": "S-E7UxYZFXam"
      },
      "source": [
        "##2. Diseño experimental de una Red neuronal \n",
        "\n",
        "Para nuestra red neuronal, hemos decidido crear una arquitectura compuesta por 5 capas, la primera de 32 neuronas, la segunda de 64 neuronas, la tercera tendrá el valor que en el diseño experimental se considere mejor, la cuarta es de regularización, usamos una capa con dropout ya que reduce el riesgo de overfitting congelando aleatoriamente neuronas de determinadas para no recalcular, y la última es la capa de salida. \n",
        "\n",
        "Además cada capa usar una función de activación relu que es menos susceptible a la desaparición de gradientes que impiden el entrenamiento de modelos profundos, aunque puede sufrir otros problemas como saturación y además como se trata de una regresión, es una buena opción. Por otro lado la última capa usa una función Linear, ya que softmax se comporta mejor con clasiificación y en la última capa. Y se usó la función de activación lineal porque esta  no cambia la suma ponderada de la entrada de ninguna manera y devuelve el valor directamente.\n",
        "\n",
        "Como métrica usamos MAE ya que nos dice la diferencia absoluta media entre los valores predichos y los valores reales en un conjunto de datos. Cuanto menor sea el MAE, mejor se ajusta un modelo de nuestro conjunto de datos.\n",
        "\n",
        "Y como optimizador, se escogio adadelta debido a resulatdos en experimentaciones, leídas en algunos sitios web, que indican que podría ser el más indicado cuando se trata de una regresión. Adadelta es una variación de AdaGrad en la que en vez de calcular el escalado del factor de entrenamiento de cada dimensión teniendo en cuenta el gradiente acumulado desde el principio de la ejecución, se restringe a una ventana de tamaño fijo de los últimos n gradientes."
      ]
    },
    {
      "cell_type": "code",
      "execution_count": null,
      "metadata": {
        "colab": {
          "base_uri": "https://localhost:8080/"
        },
        "id": "bRtJk4_cr6SQ",
        "outputId": "422b5219-a638-42db-add1-2f927ce54660"
      },
      "outputs": [
        {
          "name": "stdout",
          "output_type": "stream",
          "text": [
            "\u001b[?25l\r\u001b[K     |██▌                             | 10 kB 27.1 MB/s eta 0:00:01\r\u001b[K     |█████                           | 20 kB 33.5 MB/s eta 0:00:01\r\u001b[K     |███████▍                        | 30 kB 36.1 MB/s eta 0:00:01\r\u001b[K     |█████████▉                      | 40 kB 38.7 MB/s eta 0:00:01\r\u001b[K     |████████████▎                   | 51 kB 26.9 MB/s eta 0:00:01\r\u001b[K     |██████████████▊                 | 61 kB 28.1 MB/s eta 0:00:01\r\u001b[K     |█████████████████▏              | 71 kB 21.9 MB/s eta 0:00:01\r\u001b[K     |███████████████████▋            | 81 kB 22.8 MB/s eta 0:00:01\r\u001b[K     |██████████████████████          | 92 kB 23.7 MB/s eta 0:00:01\r\u001b[K     |████████████████████████▌       | 102 kB 25.0 MB/s eta 0:00:01\r\u001b[K     |███████████████████████████     | 112 kB 25.0 MB/s eta 0:00:01\r\u001b[K     |█████████████████████████████▍  | 122 kB 25.0 MB/s eta 0:00:01\r\u001b[K     |███████████████████████████████▉| 133 kB 25.0 MB/s eta 0:00:01\r\u001b[K     |████████████████████████████████| 133 kB 25.0 MB/s \n",
            "\u001b[?25h"
          ]
        }
      ],
      "source": [
        "pip install -q -U keras-tuner"
      ]
    },
    {
      "cell_type": "code",
      "execution_count": null,
      "metadata": {
        "id": "5kF0GUkLjtpD"
      },
      "outputs": [],
      "source": [
        "pip install wandb"
      ]
    },
    {
      "cell_type": "code",
      "execution_count": null,
      "metadata": {
        "id": "S-YdKg0goU6p"
      },
      "outputs": [],
      "source": [
        "import tensorflow as tf\n",
        "from tensorflow import keras\n",
        "import keras_tuner as kt\n",
        "\n",
        "def build_model(hp):\n",
        "  model = keras.Sequential()\n",
        "  model.add(keras.layers.Dense(32, activation='relu', input_shape=[9]))\n",
        "  model.add(keras.layers.Dense(units=64, activation='relu'))\n",
        "  hp_units = hp.Int('units', min_value=32, max_value=512, step=32)\n",
        "  model.add(keras.layers.Dense(units=hp_units, activation='relu'))\n",
        "  model.add(keras.layers.Dropout(0.2))\n",
        "  model.add(keras.layers.Dense(1, activation='linear'))\n",
        "  hp_learning_rate = hp.Choice('learning_rate', values=[1e-2, 1e-3, 1e-4])\n",
        "\n",
        "  optimizer = tf.keras.optimizers.Adadelta(learning_rate=hp_learning_rate) \n",
        "\n",
        "  model.compile(loss='mean_squared_error', optimizer=optimizer, metrics=['mae'])\n",
        "  return model"
      ]
    },
    {
      "cell_type": "markdown",
      "metadata": {
        "id": "keFB_TS9uYxT"
      },
      "source": [
        "El algoritmo de sintonización Hyperband utiliza la asignación de recursos adaptable y la detención anticipada para converger rápidamente en un modelo de alto rendimiento. Esto se hace usando un soporte estilo campeonato deportivo. El algoritmo entrena una gran cantidad de modelos durante algunas épocas y lleva adelante solo la mitad de los modelos con el mejor rendimiento a la siguiente ronda."
      ]
    },
    {
      "cell_type": "code",
      "execution_count": null,
      "metadata": {
        "id": "E4PBugbftics"
      },
      "outputs": [],
      "source": [
        "tuner = kt.Hyperband(build_model,\n",
        "                     objective='mae',\n",
        "                     max_epochs=100,\n",
        "                     factor=3,\n",
        "                     project_name='Diamonds')"
      ]
    },
    {
      "cell_type": "markdown",
      "source": [
        "Se buscan los mejores hiperparametros en 100 épocas, en est caso nos interesan el número de neuronas para la tecer capa y también el learning rate más adecuado. "
      ],
      "metadata": {
        "id": "JeX1w3BLaZrb"
      }
    },
    {
      "cell_type": "code",
      "execution_count": null,
      "metadata": {
        "colab": {
          "base_uri": "https://localhost:8080/"
        },
        "id": "81OkoB1auoFZ",
        "outputId": "e800d5b4-6838-42b5-ceb8-fb14fca673e5"
      },
      "outputs": [
        {
          "name": "stdout",
          "output_type": "stream",
          "text": [
            "Trial 41 Complete [00h 00m 11s]\n",
            "mae: 3241.475830078125\n",
            "\n",
            "Best mae So Far: 475.68182373046875\n",
            "Total elapsed time: 00h 04m 38s\n",
            "INFO:tensorflow:Oracle triggered exit\n",
            "El número optimo de neuronas para la segunda capa es 480 y el learning rate óptimo es 0.01.\n"
          ]
        }
      ],
      "source": [
        "tuner.search(X_train, Y_train, epochs=100, validation_data=(X_val, Y_val))\n",
        "\n",
        "# Get the optimal hyperparameters\n",
        "best_hps=tuner.get_best_hyperparameters(num_trials=5)[0]\n",
        "\n",
        "print(f\"\"\"El número optimo de neuronas para la segunda capa es {best_hps.get('units')} y el learning rate óptimo es {best_hps.get('learning_rate')}.\"\"\")"
      ]
    },
    {
      "cell_type": "code",
      "execution_count": null,
      "metadata": {
        "colab": {
          "base_uri": "https://localhost:8080/"
        },
        "id": "ahynnMV2sy2x",
        "outputId": "635f74ff-5272-4894-cbd7-044c757227b6"
      },
      "outputs": [
        {
          "name": "stdout",
          "output_type": "stream",
          "text": [
            "Epoch 1/100\n",
            "1012/1012 [==============================] - 3s 3ms/step - loss: 1554406.2500 - mae: 608.8447 - val_loss: 820796.4375 - val_mae: 495.0083\n",
            "Epoch 2/100\n",
            "1012/1012 [==============================] - 3s 3ms/step - loss: 1116457.1250 - mae: 491.2214 - val_loss: 1027684.1250 - val_mae: 555.2656\n",
            "Epoch 3/100\n",
            "1012/1012 [==============================] - 5s 5ms/step - loss: 964313.1250 - mae: 464.0229 - val_loss: 897608.6250 - val_mae: 530.1594\n",
            "Epoch 4/100\n",
            "1012/1012 [==============================] - 4s 4ms/step - loss: 845244.3125 - mae: 442.6700 - val_loss: 505522.6875 - val_mae: 369.3372\n",
            "Epoch 5/100\n",
            "1012/1012 [==============================] - 5s 5ms/step - loss: 774877.2500 - mae: 431.2033 - val_loss: 945818.3125 - val_mae: 556.0498\n",
            "Epoch 6/100\n",
            "1012/1012 [==============================] - 6s 6ms/step - loss: 736327.6250 - mae: 421.3783 - val_loss: 457356.2812 - val_mae: 344.1172\n",
            "Epoch 7/100\n",
            "1012/1012 [==============================] - 4s 4ms/step - loss: 713200.2500 - mae: 406.5577 - val_loss: 562465.4375 - val_mae: 388.0634\n",
            "Epoch 8/100\n",
            "1012/1012 [==============================] - 2s 2ms/step - loss: 646916.0625 - mae: 400.7582 - val_loss: 443022.3750 - val_mae: 339.0904\n",
            "Epoch 9/100\n",
            "1012/1012 [==============================] - 3s 3ms/step - loss: 598408.2500 - mae: 388.9549 - val_loss: 1226698.5000 - val_mae: 623.8002\n",
            "Epoch 10/100\n",
            "1012/1012 [==============================] - 3s 2ms/step - loss: 559678.5000 - mae: 383.9233 - val_loss: 423507.4688 - val_mae: 324.7331\n",
            "Epoch 11/100\n",
            "1012/1012 [==============================] - 3s 3ms/step - loss: 524899.4375 - mae: 374.8103 - val_loss: 558487.7500 - val_mae: 353.0123\n",
            "Epoch 12/100\n",
            "1012/1012 [==============================] - 2s 2ms/step - loss: 518175.1250 - mae: 372.3912 - val_loss: 493408.8125 - val_mae: 385.7838\n",
            "Epoch 13/100\n",
            "1012/1012 [==============================] - 2s 2ms/step - loss: 516905.4062 - mae: 371.1953 - val_loss: 463764.3750 - val_mae: 381.8568\n",
            "Epoch 14/100\n",
            "1012/1012 [==============================] - 2s 2ms/step - loss: 485364.8125 - mae: 363.5837 - val_loss: 541390.1250 - val_mae: 375.8862\n",
            "Epoch 15/100\n",
            "1012/1012 [==============================] - 3s 3ms/step - loss: 478088.5000 - mae: 362.8483 - val_loss: 445209.0938 - val_mae: 323.9915\n",
            "Epoch 16/100\n",
            "1012/1012 [==============================] - 3s 3ms/step - loss: 478786.8438 - mae: 360.7422 - val_loss: 1193810.8750 - val_mae: 581.6141\n",
            "Epoch 17/100\n",
            "1012/1012 [==============================] - 2s 2ms/step - loss: 458694.5000 - mae: 355.6748 - val_loss: 408046.8125 - val_mae: 335.2403\n",
            "Epoch 18/100\n",
            "1012/1012 [==============================] - 3s 3ms/step - loss: 467614.1562 - mae: 355.9797 - val_loss: 459976.1875 - val_mae: 335.8458\n",
            "Epoch 19/100\n",
            "1012/1012 [==============================] - 2s 2ms/step - loss: 450794.6562 - mae: 352.8015 - val_loss: 637375.6250 - val_mae: 385.8064\n",
            "Epoch 20/100\n",
            "1012/1012 [==============================] - 2s 2ms/step - loss: 446090.1562 - mae: 353.9614 - val_loss: 464772.0312 - val_mae: 345.8810\n",
            "Epoch 21/100\n",
            "1012/1012 [==============================] - 2s 2ms/step - loss: 441971.2500 - mae: 352.2899 - val_loss: 521580.0312 - val_mae: 356.1449\n",
            "Epoch 22/100\n",
            "1012/1012 [==============================] - 2s 2ms/step - loss: 449019.9688 - mae: 352.7871 - val_loss: 374362.4375 - val_mae: 314.6840\n",
            "Epoch 23/100\n",
            "1012/1012 [==============================] - 3s 3ms/step - loss: 430454.5938 - mae: 348.4211 - val_loss: 471367.9062 - val_mae: 380.0695\n",
            "Epoch 24/100\n",
            "1012/1012 [==============================] - 2s 2ms/step - loss: 431586.2812 - mae: 350.3711 - val_loss: 819586.1250 - val_mae: 513.1172\n",
            "Epoch 25/100\n",
            "1012/1012 [==============================] - 2s 2ms/step - loss: 431163.8125 - mae: 347.6636 - val_loss: 395459.9062 - val_mae: 325.4565\n",
            "Epoch 26/100\n",
            "1012/1012 [==============================] - 2s 2ms/step - loss: 432860.2188 - mae: 349.2484 - val_loss: 532949.6250 - val_mae: 374.6585\n",
            "Epoch 27/100\n",
            "1012/1012 [==============================] - 3s 3ms/step - loss: 418087.8750 - mae: 344.7554 - val_loss: 392756.7188 - val_mae: 313.9201\n",
            "Epoch 28/100\n",
            "1012/1012 [==============================] - 2s 2ms/step - loss: 419466.6875 - mae: 345.1177 - val_loss: 353676.4688 - val_mae: 301.7535\n",
            "Epoch 29/100\n",
            "1012/1012 [==============================] - 3s 3ms/step - loss: 411929.7812 - mae: 341.8011 - val_loss: 387936.4062 - val_mae: 320.1868\n",
            "Epoch 30/100\n",
            "1012/1012 [==============================] - 3s 3ms/step - loss: 411341.5938 - mae: 342.6975 - val_loss: 403604.6875 - val_mae: 325.4076\n",
            "Epoch 31/100\n",
            "1012/1012 [==============================] - 3s 3ms/step - loss: 419472.7188 - mae: 345.1852 - val_loss: 356407.3125 - val_mae: 308.1133\n",
            "Epoch 32/100\n",
            "1012/1012 [==============================] - 2s 2ms/step - loss: 413005.6250 - mae: 341.7388 - val_loss: 440897.9688 - val_mae: 349.4594\n",
            "Epoch 33/100\n",
            "1012/1012 [==============================] - 2s 2ms/step - loss: 415565.8750 - mae: 342.7289 - val_loss: 599505.7500 - val_mae: 415.4110\n",
            "Epoch 34/100\n",
            "1012/1012 [==============================] - 3s 3ms/step - loss: 404676.9062 - mae: 339.2296 - val_loss: 370660.4375 - val_mae: 311.1176\n",
            "Epoch 35/100\n",
            "1012/1012 [==============================] - 2s 2ms/step - loss: 401205.6562 - mae: 339.2725 - val_loss: 335262.0625 - val_mae: 295.8802\n",
            "Epoch 36/100\n",
            "1012/1012 [==============================] - 3s 3ms/step - loss: 399172.5312 - mae: 338.9951 - val_loss: 354575.7188 - val_mae: 315.5754\n",
            "Epoch 37/100\n",
            "1012/1012 [==============================] - 3s 3ms/step - loss: 397819.2500 - mae: 336.2111 - val_loss: 490672.1875 - val_mae: 371.6780\n",
            "Epoch 38/100\n",
            "1012/1012 [==============================] - 2s 2ms/step - loss: 392678.5312 - mae: 336.8454 - val_loss: 337459.6250 - val_mae: 303.9224\n",
            "Epoch 39/100\n",
            "1012/1012 [==============================] - 2s 2ms/step - loss: 395385.2500 - mae: 336.4844 - val_loss: 439636.0000 - val_mae: 360.8708\n",
            "Epoch 40/100\n",
            "1012/1012 [==============================] - 3s 3ms/step - loss: 392110.5000 - mae: 336.7057 - val_loss: 328534.5312 - val_mae: 300.6789\n",
            "Epoch 41/100\n",
            "1012/1012 [==============================] - 3s 3ms/step - loss: 391830.6875 - mae: 336.3048 - val_loss: 361121.6875 - val_mae: 302.4598\n",
            "Epoch 42/100\n",
            "1012/1012 [==============================] - 3s 3ms/step - loss: 395189.3125 - mae: 335.6270 - val_loss: 594578.5000 - val_mae: 406.3732\n",
            "Epoch 43/100\n",
            "1012/1012 [==============================] - 3s 3ms/step - loss: 392363.4375 - mae: 336.9624 - val_loss: 367924.9375 - val_mae: 319.8119\n",
            "Epoch 44/100\n",
            "1012/1012 [==============================] - 3s 3ms/step - loss: 396564.7812 - mae: 335.2915 - val_loss: 450030.9688 - val_mae: 356.3914\n",
            "Epoch 45/100\n",
            "1012/1012 [==============================] - 3s 3ms/step - loss: 385823.0938 - mae: 333.3462 - val_loss: 355260.5938 - val_mae: 307.7266\n",
            "Epoch 46/100\n",
            "1012/1012 [==============================] - 3s 3ms/step - loss: 390848.6250 - mae: 333.7179 - val_loss: 525188.9375 - val_mae: 376.9250\n",
            "Epoch 47/100\n",
            "1012/1012 [==============================] - 3s 3ms/step - loss: 392132.0000 - mae: 332.8062 - val_loss: 357238.4062 - val_mae: 296.7105\n",
            "Epoch 48/100\n",
            "1012/1012 [==============================] - 5s 5ms/step - loss: 387025.6875 - mae: 332.8881 - val_loss: 364391.8750 - val_mae: 301.4844\n",
            "Epoch 49/100\n",
            "1012/1012 [==============================] - 3s 3ms/step - loss: 381273.8438 - mae: 331.0719 - val_loss: 347964.1250 - val_mae: 302.8633\n",
            "Epoch 50/100\n",
            "1012/1012 [==============================] - 3s 3ms/step - loss: 385698.3125 - mae: 332.0580 - val_loss: 441399.0938 - val_mae: 367.0526\n",
            "Epoch 51/100\n",
            "1012/1012 [==============================] - 3s 3ms/step - loss: 391066.0625 - mae: 334.0603 - val_loss: 494375.6250 - val_mae: 380.5800\n",
            "Epoch 52/100\n",
            "1012/1012 [==============================] - 3s 3ms/step - loss: 389931.2500 - mae: 332.9457 - val_loss: 355326.4688 - val_mae: 314.7003\n",
            "Epoch 53/100\n",
            "1012/1012 [==============================] - 3s 3ms/step - loss: 390909.5938 - mae: 331.8316 - val_loss: 365851.2812 - val_mae: 332.3640\n",
            "Epoch 54/100\n",
            "1012/1012 [==============================] - 2s 2ms/step - loss: 387932.0938 - mae: 330.3426 - val_loss: 331656.3125 - val_mae: 295.9598\n",
            "Epoch 55/100\n",
            "1012/1012 [==============================] - 3s 3ms/step - loss: 382913.3438 - mae: 329.0021 - val_loss: 349234.1875 - val_mae: 305.8631\n",
            "Epoch 56/100\n",
            "1012/1012 [==============================] - 3s 3ms/step - loss: 383513.4375 - mae: 330.0937 - val_loss: 392309.7812 - val_mae: 322.5801\n",
            "Epoch 57/100\n",
            "1012/1012 [==============================] - 3s 3ms/step - loss: 378445.2812 - mae: 327.4402 - val_loss: 328111.8438 - val_mae: 304.4171\n",
            "Epoch 58/100\n",
            "1012/1012 [==============================] - 2s 2ms/step - loss: 383000.9688 - mae: 331.9114 - val_loss: 354917.2188 - val_mae: 326.6661\n",
            "Epoch 59/100\n",
            "1012/1012 [==============================] - 3s 3ms/step - loss: 377646.5625 - mae: 327.3168 - val_loss: 420635.0625 - val_mae: 364.0656\n",
            "Epoch 60/100\n",
            "1012/1012 [==============================] - 2s 2ms/step - loss: 371890.1562 - mae: 327.8580 - val_loss: 317793.0938 - val_mae: 290.0423\n",
            "Epoch 61/100\n",
            "1012/1012 [==============================] - 2s 2ms/step - loss: 377099.1250 - mae: 327.5688 - val_loss: 319640.8438 - val_mae: 292.1663\n",
            "Epoch 62/100\n",
            "1012/1012 [==============================] - 2s 2ms/step - loss: 378813.3750 - mae: 329.0814 - val_loss: 324795.0312 - val_mae: 290.9012\n",
            "Epoch 63/100\n",
            "1012/1012 [==============================] - 3s 3ms/step - loss: 383673.5312 - mae: 328.7870 - val_loss: 352251.1562 - val_mae: 321.2515\n",
            "Epoch 64/100\n",
            "1012/1012 [==============================] - 3s 2ms/step - loss: 370228.5000 - mae: 326.8076 - val_loss: 466861.3750 - val_mae: 396.9681\n",
            "Epoch 65/100\n",
            "1012/1012 [==============================] - 2s 2ms/step - loss: 375837.6562 - mae: 328.6913 - val_loss: 687044.0000 - val_mae: 474.9705\n",
            "Epoch 66/100\n",
            "1012/1012 [==============================] - 2s 2ms/step - loss: 381367.4062 - mae: 330.6148 - val_loss: 417172.7500 - val_mae: 350.9816\n",
            "Epoch 67/100\n",
            "1012/1012 [==============================] - 2s 2ms/step - loss: 370189.0938 - mae: 325.6808 - val_loss: 329465.2500 - val_mae: 304.5307\n",
            "Epoch 68/100\n",
            "1012/1012 [==============================] - 2s 2ms/step - loss: 372704.8438 - mae: 327.3553 - val_loss: 337823.0000 - val_mae: 301.6070\n",
            "Epoch 69/100\n",
            "1012/1012 [==============================] - 2s 2ms/step - loss: 367541.2500 - mae: 323.7060 - val_loss: 459150.0625 - val_mae: 342.2127\n",
            "Epoch 70/100\n",
            "1012/1012 [==============================] - 3s 3ms/step - loss: 375652.0000 - mae: 325.9366 - val_loss: 407598.8438 - val_mae: 348.4099\n",
            "Epoch 71/100\n",
            "1012/1012 [==============================] - 3s 3ms/step - loss: 374279.1875 - mae: 326.2197 - val_loss: 340445.9375 - val_mae: 311.3462\n",
            "Epoch 72/100\n",
            "1012/1012 [==============================] - 3s 3ms/step - loss: 369982.3750 - mae: 325.6387 - val_loss: 316545.4375 - val_mae: 295.8099\n",
            "Epoch 73/100\n",
            "1012/1012 [==============================] - 2s 2ms/step - loss: 370372.2500 - mae: 324.6461 - val_loss: 409675.9375 - val_mae: 341.3560\n",
            "Epoch 74/100\n",
            "1012/1012 [==============================] - 2s 2ms/step - loss: 373230.7500 - mae: 326.5305 - val_loss: 575574.1250 - val_mae: 392.7972\n",
            "Epoch 75/100\n",
            "1012/1012 [==============================] - 2s 2ms/step - loss: 379782.2812 - mae: 327.7747 - val_loss: 328691.5938 - val_mae: 306.1512\n",
            "Epoch 76/100\n",
            "1012/1012 [==============================] - 3s 3ms/step - loss: 365120.6875 - mae: 325.9561 - val_loss: 458001.0000 - val_mae: 343.3973\n",
            "Epoch 77/100\n",
            "1012/1012 [==============================] - 3s 3ms/step - loss: 367495.2500 - mae: 323.8456 - val_loss: 348698.8750 - val_mae: 302.7551\n",
            "Epoch 78/100\n",
            "1012/1012 [==============================] - 2s 2ms/step - loss: 365124.4688 - mae: 324.1507 - val_loss: 382146.3438 - val_mae: 352.8066\n",
            "Epoch 79/100\n",
            "1012/1012 [==============================] - 3s 2ms/step - loss: 371336.7812 - mae: 325.6743 - val_loss: 516071.7500 - val_mae: 404.9143\n",
            "Epoch 80/100\n",
            "1012/1012 [==============================] - 3s 3ms/step - loss: 379906.0312 - mae: 326.5745 - val_loss: 419786.6875 - val_mae: 343.9915\n",
            "Epoch 81/100\n",
            "1012/1012 [==============================] - 3s 3ms/step - loss: 369869.0938 - mae: 323.3407 - val_loss: 346401.4688 - val_mae: 299.4333\n",
            "Epoch 82/100\n",
            "1012/1012 [==============================] - 3s 3ms/step - loss: 371536.3125 - mae: 325.5739 - val_loss: 463948.0312 - val_mae: 359.0091\n",
            "Epoch 83/100\n",
            "1012/1012 [==============================] - 3s 3ms/step - loss: 370822.0312 - mae: 325.6320 - val_loss: 319004.9375 - val_mae: 296.2655\n",
            "Epoch 84/100\n",
            "1012/1012 [==============================] - 3s 3ms/step - loss: 374350.1875 - mae: 324.9827 - val_loss: 483255.5312 - val_mae: 380.7324\n",
            "Epoch 85/100\n",
            "1012/1012 [==============================] - 3s 3ms/step - loss: 370406.0625 - mae: 325.0401 - val_loss: 467454.7812 - val_mae: 379.0026\n",
            "Epoch 86/100\n",
            "1012/1012 [==============================] - 2s 2ms/step - loss: 362693.8750 - mae: 323.6560 - val_loss: 368512.1562 - val_mae: 326.1878\n",
            "Epoch 87/100\n",
            "1012/1012 [==============================] - 3s 3ms/step - loss: 368536.8125 - mae: 323.9996 - val_loss: 462485.1250 - val_mae: 351.0430\n",
            "Epoch 88/100\n",
            "1012/1012 [==============================] - 3s 2ms/step - loss: 370882.1562 - mae: 324.9753 - val_loss: 331360.5625 - val_mae: 295.8483\n",
            "Epoch 89/100\n",
            "1012/1012 [==============================] - 3s 3ms/step - loss: 377660.1875 - mae: 325.6656 - val_loss: 605060.3750 - val_mae: 421.2427\n",
            "Epoch 90/100\n",
            "1012/1012 [==============================] - 3s 2ms/step - loss: 373331.1875 - mae: 324.7802 - val_loss: 357810.7500 - val_mae: 319.0101\n",
            "Epoch 91/100\n",
            "1012/1012 [==============================] - 3s 3ms/step - loss: 370019.5625 - mae: 324.7532 - val_loss: 442606.6250 - val_mae: 384.2829\n",
            "Epoch 92/100\n",
            "1012/1012 [==============================] - 3s 3ms/step - loss: 367663.0625 - mae: 325.3984 - val_loss: 352253.5938 - val_mae: 315.6911\n",
            "Epoch 93/100\n",
            "1012/1012 [==============================] - 3s 3ms/step - loss: 368207.2188 - mae: 325.1229 - val_loss: 342708.9062 - val_mae: 307.3915\n",
            "Epoch 94/100\n",
            "1012/1012 [==============================] - 3s 3ms/step - loss: 370796.2188 - mae: 324.5617 - val_loss: 342916.7188 - val_mae: 294.1306\n",
            "Epoch 95/100\n",
            "1012/1012 [==============================] - 2s 2ms/step - loss: 358758.8438 - mae: 320.9796 - val_loss: 377996.7188 - val_mae: 305.9053\n",
            "Epoch 96/100\n",
            "1012/1012 [==============================] - 2s 2ms/step - loss: 371423.1250 - mae: 326.2066 - val_loss: 345186.1562 - val_mae: 298.6727\n",
            "Epoch 97/100\n",
            "1012/1012 [==============================] - 3s 3ms/step - loss: 368774.1250 - mae: 322.4668 - val_loss: 422826.4688 - val_mae: 348.1436\n",
            "Epoch 98/100\n",
            "1012/1012 [==============================] - 3s 3ms/step - loss: 366406.1875 - mae: 324.4764 - val_loss: 408183.1875 - val_mae: 344.9128\n",
            "Epoch 99/100\n",
            "1012/1012 [==============================] - 2s 2ms/step - loss: 358301.1875 - mae: 320.6306 - val_loss: 354921.4375 - val_mae: 313.4744\n",
            "Epoch 100/100\n",
            "1012/1012 [==============================] - 3s 2ms/step - loss: 366075.6875 - mae: 322.0536 - val_loss: 360321.9688 - val_mae: 321.9119\n",
            "Best epoch: 1\n"
          ]
        }
      ],
      "source": [
        "model = tuner.hypermodel.build(best_hps)\n",
        "#Se entrena el modelo, usando los hiperparametros encontrados\n",
        "history = model.fit(\n",
        "                    X_train,\n",
        "                    Y_train, \n",
        "                    epochs=100, \n",
        "                    validation_data=(X_val, Y_val))\n",
        "\n",
        "val_mae_per_epoch = history.history['mae']\n",
        "#Se optiene la mejor época solo para conocer el dato\n",
        "best_epoch = val_mae_per_epoch.index(max(val_mae_per_epoch)) + 1\n",
        "print('Best epoch: %d' % (best_epoch,))"
      ]
    },
    {
      "cell_type": "code",
      "execution_count": null,
      "metadata": {
        "colab": {
          "base_uri": "https://localhost:8080/"
        },
        "id": "Y2-q9VGbs0P_",
        "outputId": "44be24ed-f257-4851-d70e-8a4d9afe266c"
      },
      "outputs": [
        {
          "name": "stdout",
          "output_type": "stream",
          "text": [
            "Model: \"sequential_1\"\n",
            "_________________________________________________________________\n",
            " Layer (type)                Output Shape              Param #   \n",
            "=================================================================\n",
            " dense_4 (Dense)             (None, 32)                320       \n",
            "                                                                 \n",
            " dense_5 (Dense)             (None, 64)                2112      \n",
            "                                                                 \n",
            " dense_6 (Dense)             (None, 192)               12480     \n",
            "                                                                 \n",
            " dropout_1 (Dropout)         (None, 192)               0         \n",
            "                                                                 \n",
            " dense_7 (Dense)             (None, 1)                 193       \n",
            "                                                                 \n",
            "=================================================================\n",
            "Total params: 15,105\n",
            "Trainable params: 15,105\n",
            "Non-trainable params: 0\n",
            "_________________________________________________________________\n"
          ]
        }
      ],
      "source": [
        "#Resumen de los parámetros de cada capa \n",
        "model.summary()"
      ]
    },
    {
      "cell_type": "code",
      "execution_count": null,
      "metadata": {
        "colab": {
          "base_uri": "https://localhost:8080/",
          "height": 424
        },
        "id": "1Pmr2M9fSsXE",
        "outputId": "d50471bb-ffe9-4676-ec68-20d37e4592b5"
      },
      "outputs": [
        {
          "data": {
            "text/html": [
              "\n",
              "  <div id=\"df-31553f2d-00a7-42c7-8bc7-90b72bd3eac0\">\n",
              "    <div class=\"colab-df-container\">\n",
              "      <div>\n",
              "<style scoped>\n",
              "    .dataframe tbody tr th:only-of-type {\n",
              "        vertical-align: middle;\n",
              "    }\n",
              "\n",
              "    .dataframe tbody tr th {\n",
              "        vertical-align: top;\n",
              "    }\n",
              "\n",
              "    .dataframe thead th {\n",
              "        text-align: right;\n",
              "    }\n",
              "</style>\n",
              "<table border=\"1\" class=\"dataframe\">\n",
              "  <thead>\n",
              "    <tr style=\"text-align: right;\">\n",
              "      <th></th>\n",
              "      <th>loss</th>\n",
              "      <th>mae</th>\n",
              "      <th>val_loss</th>\n",
              "      <th>val_mae</th>\n",
              "    </tr>\n",
              "  </thead>\n",
              "  <tbody>\n",
              "    <tr>\n",
              "      <th>0</th>\n",
              "      <td>1.554406e+06</td>\n",
              "      <td>608.844666</td>\n",
              "      <td>8.207964e+05</td>\n",
              "      <td>495.008331</td>\n",
              "    </tr>\n",
              "    <tr>\n",
              "      <th>1</th>\n",
              "      <td>1.116457e+06</td>\n",
              "      <td>491.221375</td>\n",
              "      <td>1.027684e+06</td>\n",
              "      <td>555.265564</td>\n",
              "    </tr>\n",
              "    <tr>\n",
              "      <th>2</th>\n",
              "      <td>9.643131e+05</td>\n",
              "      <td>464.022919</td>\n",
              "      <td>8.976086e+05</td>\n",
              "      <td>530.159363</td>\n",
              "    </tr>\n",
              "    <tr>\n",
              "      <th>3</th>\n",
              "      <td>8.452443e+05</td>\n",
              "      <td>442.670013</td>\n",
              "      <td>5.055227e+05</td>\n",
              "      <td>369.337189</td>\n",
              "    </tr>\n",
              "    <tr>\n",
              "      <th>4</th>\n",
              "      <td>7.748772e+05</td>\n",
              "      <td>431.203308</td>\n",
              "      <td>9.458183e+05</td>\n",
              "      <td>556.049805</td>\n",
              "    </tr>\n",
              "    <tr>\n",
              "      <th>...</th>\n",
              "      <td>...</td>\n",
              "      <td>...</td>\n",
              "      <td>...</td>\n",
              "      <td>...</td>\n",
              "    </tr>\n",
              "    <tr>\n",
              "      <th>95</th>\n",
              "      <td>3.714231e+05</td>\n",
              "      <td>326.206573</td>\n",
              "      <td>3.451862e+05</td>\n",
              "      <td>298.672668</td>\n",
              "    </tr>\n",
              "    <tr>\n",
              "      <th>96</th>\n",
              "      <td>3.687741e+05</td>\n",
              "      <td>322.466827</td>\n",
              "      <td>4.228265e+05</td>\n",
              "      <td>348.143616</td>\n",
              "    </tr>\n",
              "    <tr>\n",
              "      <th>97</th>\n",
              "      <td>3.664062e+05</td>\n",
              "      <td>324.476379</td>\n",
              "      <td>4.081832e+05</td>\n",
              "      <td>344.912842</td>\n",
              "    </tr>\n",
              "    <tr>\n",
              "      <th>98</th>\n",
              "      <td>3.583012e+05</td>\n",
              "      <td>320.630646</td>\n",
              "      <td>3.549214e+05</td>\n",
              "      <td>313.474426</td>\n",
              "    </tr>\n",
              "    <tr>\n",
              "      <th>99</th>\n",
              "      <td>3.660757e+05</td>\n",
              "      <td>322.053589</td>\n",
              "      <td>3.603220e+05</td>\n",
              "      <td>321.911926</td>\n",
              "    </tr>\n",
              "  </tbody>\n",
              "</table>\n",
              "<p>100 rows × 4 columns</p>\n",
              "</div>\n",
              "      <button class=\"colab-df-convert\" onclick=\"convertToInteractive('df-31553f2d-00a7-42c7-8bc7-90b72bd3eac0')\"\n",
              "              title=\"Convert this dataframe to an interactive table.\"\n",
              "              style=\"display:none;\">\n",
              "        \n",
              "  <svg xmlns=\"http://www.w3.org/2000/svg\" height=\"24px\"viewBox=\"0 0 24 24\"\n",
              "       width=\"24px\">\n",
              "    <path d=\"M0 0h24v24H0V0z\" fill=\"none\"/>\n",
              "    <path d=\"M18.56 5.44l.94 2.06.94-2.06 2.06-.94-2.06-.94-.94-2.06-.94 2.06-2.06.94zm-11 1L8.5 8.5l.94-2.06 2.06-.94-2.06-.94L8.5 2.5l-.94 2.06-2.06.94zm10 10l.94 2.06.94-2.06 2.06-.94-2.06-.94-.94-2.06-.94 2.06-2.06.94z\"/><path d=\"M17.41 7.96l-1.37-1.37c-.4-.4-.92-.59-1.43-.59-.52 0-1.04.2-1.43.59L10.3 9.45l-7.72 7.72c-.78.78-.78 2.05 0 2.83L4 21.41c.39.39.9.59 1.41.59.51 0 1.02-.2 1.41-.59l7.78-7.78 2.81-2.81c.8-.78.8-2.07 0-2.86zM5.41 20L4 18.59l7.72-7.72 1.47 1.35L5.41 20z\"/>\n",
              "  </svg>\n",
              "      </button>\n",
              "      \n",
              "  <style>\n",
              "    .colab-df-container {\n",
              "      display:flex;\n",
              "      flex-wrap:wrap;\n",
              "      gap: 12px;\n",
              "    }\n",
              "\n",
              "    .colab-df-convert {\n",
              "      background-color: #E8F0FE;\n",
              "      border: none;\n",
              "      border-radius: 50%;\n",
              "      cursor: pointer;\n",
              "      display: none;\n",
              "      fill: #1967D2;\n",
              "      height: 32px;\n",
              "      padding: 0 0 0 0;\n",
              "      width: 32px;\n",
              "    }\n",
              "\n",
              "    .colab-df-convert:hover {\n",
              "      background-color: #E2EBFA;\n",
              "      box-shadow: 0px 1px 2px rgba(60, 64, 67, 0.3), 0px 1px 3px 1px rgba(60, 64, 67, 0.15);\n",
              "      fill: #174EA6;\n",
              "    }\n",
              "\n",
              "    [theme=dark] .colab-df-convert {\n",
              "      background-color: #3B4455;\n",
              "      fill: #D2E3FC;\n",
              "    }\n",
              "\n",
              "    [theme=dark] .colab-df-convert:hover {\n",
              "      background-color: #434B5C;\n",
              "      box-shadow: 0px 1px 3px 1px rgba(0, 0, 0, 0.15);\n",
              "      filter: drop-shadow(0px 1px 2px rgba(0, 0, 0, 0.3));\n",
              "      fill: #FFFFFF;\n",
              "    }\n",
              "  </style>\n",
              "\n",
              "      <script>\n",
              "        const buttonEl =\n",
              "          document.querySelector('#df-31553f2d-00a7-42c7-8bc7-90b72bd3eac0 button.colab-df-convert');\n",
              "        buttonEl.style.display =\n",
              "          google.colab.kernel.accessAllowed ? 'block' : 'none';\n",
              "\n",
              "        async function convertToInteractive(key) {\n",
              "          const element = document.querySelector('#df-31553f2d-00a7-42c7-8bc7-90b72bd3eac0');\n",
              "          const dataTable =\n",
              "            await google.colab.kernel.invokeFunction('convertToInteractive',\n",
              "                                                     [key], {});\n",
              "          if (!dataTable) return;\n",
              "\n",
              "          const docLinkHtml = 'Like what you see? Visit the ' +\n",
              "            '<a target=\"_blank\" href=https://colab.research.google.com/notebooks/data_table.ipynb>data table notebook</a>'\n",
              "            + ' to learn more about interactive tables.';\n",
              "          element.innerHTML = '';\n",
              "          dataTable['output_type'] = 'display_data';\n",
              "          await google.colab.output.renderOutput(dataTable, element);\n",
              "          const docLink = document.createElement('div');\n",
              "          docLink.innerHTML = docLinkHtml;\n",
              "          element.appendChild(docLink);\n",
              "        }\n",
              "      </script>\n",
              "    </div>\n",
              "  </div>\n",
              "  "
            ],
            "text/plain": [
              "            loss         mae      val_loss     val_mae\n",
              "0   1.554406e+06  608.844666  8.207964e+05  495.008331\n",
              "1   1.116457e+06  491.221375  1.027684e+06  555.265564\n",
              "2   9.643131e+05  464.022919  8.976086e+05  530.159363\n",
              "3   8.452443e+05  442.670013  5.055227e+05  369.337189\n",
              "4   7.748772e+05  431.203308  9.458183e+05  556.049805\n",
              "..           ...         ...           ...         ...\n",
              "95  3.714231e+05  326.206573  3.451862e+05  298.672668\n",
              "96  3.687741e+05  322.466827  4.228265e+05  348.143616\n",
              "97  3.664062e+05  324.476379  4.081832e+05  344.912842\n",
              "98  3.583012e+05  320.630646  3.549214e+05  313.474426\n",
              "99  3.660757e+05  322.053589  3.603220e+05  321.911926\n",
              "\n",
              "[100 rows x 4 columns]"
            ]
          },
          "execution_count": 17,
          "metadata": {},
          "output_type": "execute_result"
        }
      ],
      "source": [
        "#Se convierte a dataframe \n",
        "hist = pd.DataFrame(history.history)\n",
        "hist"
      ]
    },
    {
      "cell_type": "markdown",
      "source": [
        "Ahora veamos gráficas para visualizar los valores de pérdida en el train y en la validación, tanto con la métrica dada de MSE como fucnión de perdida, como la otra que hemos pedido adicionalmente que es MAE. "
      ],
      "metadata": {
        "id": "12tNhFmDcwwH"
      }
    },
    {
      "cell_type": "code",
      "execution_count": null,
      "metadata": {
        "colab": {
          "base_uri": "https://localhost:8080/",
          "height": 554
        },
        "id": "F1t37rgZTlOo",
        "outputId": "6f7043d3-db0f-49d7-b045-1e669226ae55"
      },
      "outputs": [
        {
          "data": {
            "image/png": "[encoded data removed]",
            "text/plain": [
              "<Figure size 432x288 with 1 Axes>"
            ]
          },
          "metadata": {},
          "output_type": "display_data"
        },
        {
          "data": {
            "image/png": "[encoded data removed]",
            "text/plain": [
              "<Figure size 432x288 with 1 Axes>"
            ]
          },
          "metadata": {},
          "output_type": "display_data"
        }
      ],
      "source": [
        "import pandas as pd\n",
        "import matplotlib.pyplot as plt\n",
        "\n",
        "\n",
        "hist['epoch'] = history.epoch\n",
        "\n",
        "plt.figure()\n",
        "plt.xlabel('Epoch')\n",
        "plt.ylabel('Mae')\n",
        "plt.plot(hist['epoch'], hist['mae'],label='Train Error')\n",
        "plt.plot(hist['epoch'], hist['val_mae'], label = 'Val Error')\n",
        "plt.legend()\n",
        "plt.show()\n",
        "\n",
        "\n",
        "plt.figure()\n",
        "plt.xlabel('Epoch')\n",
        "plt.ylabel('Loss')\n",
        "plt.plot(hist['epoch'], hist['loss'],label='Loss')\n",
        "plt.plot(hist['epoch'], hist['val_loss'], label = 'Val loss')\n",
        "plt.legend()\n",
        "plt.show()\n",
        "\n",
        "#plot_history(history)"
      ]
    },
    {
      "cell_type": "markdown",
      "metadata": {
        "id": "y5nq8BsgUjut"
      },
      "source": [
        "Hacemos una evaluación para conocer los resultados del loss en el conjunto de validación y también de la métrica de mean absolute error"
      ]
    },
    {
      "cell_type": "code",
      "execution_count": null,
      "metadata": {
        "colab": {
          "base_uri": "https://localhost:8080/"
        },
        "id": "iobFOCXBDi1y",
        "outputId": "8978c04a-7657-4498-daeb-3b1e8dc31027"
      },
      "outputs": [
        {
          "name": "stdout",
          "output_type": "stream",
          "text": [
            "338/338 [==============================] - 1s 2ms/step - loss: 916928.1875 - mae: 591.4112\n"
          ]
        }
      ],
      "source": [
        "test_loss = model.evaluate(X_test, Y_test)"
      ]
    },
    {
      "cell_type": "markdown",
      "metadata": {
        "id": "ibV4SdJzurvW"
      },
      "source": [
        "####Predicciones\n",
        "Finalmente veamos las predicciones y comparamos estos con los valores predichos, estos nos dará una idea de qué tan buena fue la configiración de la red y la optimización de los parámetros. "
      ]
    },
    {
      "cell_type": "code",
      "execution_count": null,
      "metadata": {
        "id": "q9YIXfzuuqJK"
      },
      "outputs": [],
      "source": [
        "#Relizamos una prediccion\n",
        "y_predict = model.predict(X_test)\n",
        "y_predict = pd.DataFrame(data= y_predict, columns= ['predicted_price'])\n",
        "real_and_predicted_df = pd.concat([y_predict, Y_test], axis=1,)\n",
        "print(\"El predicho es: \\n\", y_predict)\n",
        "print(\"El valor verdadero es: \\n\", Y_test)\n",
        "real_and_predicted_df"
      ]
    },
    {
      "cell_type": "markdown",
      "metadata": {
        "id": "54koZSwyUgDC"
      },
      "source": [
        "##3. Herramienta de seguimiento"
      ]
    },
    {
      "cell_type": "markdown",
      "metadata": {
        "id": "IF_vavY-X0Ag"
      },
      "source": [
        "Para el caso de la herramienta de seguimiento, se optó por utilizar \"Weights and Biases\", conocida como wandb. Dentro de las principales características que ofrece, se puede mencionar:\n",
        "\n",
        "\n",
        "\n",
        "*   Tracking de diseños experimentales\n",
        "*   Dashboards colaborativos con opción de generar reportes automatizados\n",
        "*   Versionador de los modelos y los datasets, similar al sistema que utilizan otras herramientas como git.\n",
        "* Optimización de hiperparámetros y una visualización interactiva de los resultados.\n",
        "\n",
        "En adición a la gran cantidad de beneficios presentados, otra de las razones que nos hicieron utilzar esta herramienta, es la facilidad para integrarse con Keras, la cual es la biblioteca que se utilizó en el diseño experimental del presente proyecto para administrar la creación y manipulación de la red neuronal.\n",
        "\n"
      ]
    },
    {
      "cell_type": "code",
      "execution_count": null,
      "metadata": {
        "id": "ebBmTr0AoA7c"
      },
      "outputs": [],
      "source": [
        "# Se importan los componentes necesarios para utilizar la herramienta de wandb con keras\n",
        "import wandb \n",
        "from wandb.keras import WandbCallback"
      ]
    },
    {
      "cell_type": "markdown",
      "metadata": {
        "id": "gtS1w9NmdHh0"
      },
      "source": [
        "Con este comando se realiza el login con el sistema de la aplicación .\n",
        "Será necesario ingresar un API key de la cuenta donde se almacenarán los resultados del proyecto."
      ]
    },
    {
      "cell_type": "code",
      "execution_count": null,
      "metadata": {
        "colab": {
          "base_uri": "https://localhost:8080/"
        },
        "id": "7veEwYvwoSIw",
        "outputId": "67182310-189b-4cd3-d5cc-fec63472bf86"
      },
      "outputs": [
        {
          "name": "stdout",
          "output_type": "stream",
          "text": [
            "\u001b[34m\u001b[1mwandb\u001b[0m: Logging into wandb.ai. (Learn how to deploy a W&B server locally: https://wandb.me/wandb-server)\n",
            "\u001b[34m\u001b[1mwandb\u001b[0m: You can find your API key in your browser here: https://wandb.ai/authorize\n",
            "\u001b[34m\u001b[1mwandb\u001b[0m: Paste an API key from your profile and hit enter, or press ctrl+c to quit: \n",
            "\u001b[34m\u001b[1mwandb\u001b[0m: Appending key for api.wandb.ai to your netrc file: /root/.netrc\n"
          ]
        }
      ],
      "source": [
        "# Se hace el login con la aplicación de wandb. El API Key se ingresa por medio de la consola cuando sea requerido.\n",
        "!wandb login"
      ]
    },
    {
      "cell_type": "code",
      "execution_count": null,
      "metadata": {
        "colab": {
          "base_uri": "https://localhost:8080/",
          "height": 750,
          "referenced_widgets": [
            "ffc6aebea9c44d10b9776701df158d5d",
            "8c8a39e7770f4ee1a94be6b0c644247c",
            "f367491b3ad24f09b5ffb5c6138d6785",
            "94c838b4550d4f17aad27ffd73b3cd39",
            "2eae26d2dba44c32ae8e5a2c341606e3",
            "65b561d258d0403197263bcc94d24e55",
            "36de7f7d9afa47909f5385160868901c",
            "f5bad0896b754cc99ea18bde7f681417"
          ]
        },
        "id": "72buliZ-oTJn",
        "outputId": "5425eb34-4340-4076-aa3c-ecb71a9fb685"
      },
      "outputs": [
        {
          "data": {
            "text/html": [
              "Finishing last run (ID:2pextu8s) before initializing another..."
            ],
            "text/plain": [
              "<IPython.core.display.HTML object>"
            ]
          },
          "metadata": {},
          "output_type": "display_data"
        },
        {
          "data": {
            "text/html": [
              "Waiting for W&B process to finish... <strong style=\"color:green\">(success).</strong>"
            ],
            "text/plain": [
              "<IPython.core.display.HTML object>"
            ]
          },
          "metadata": {},
          "output_type": "display_data"
        },
        {
          "data": {
            "application/vnd.jupyter.widget-view+json": {
              "model_id": "ffc6aebea9c44d10b9776701df158d5d",
              "version_major": 2,
              "version_minor": 0
            },
            "text/plain": [
              "VBox(children=(Label(value='0.154 MB of 0.154 MB uploaded (0.000 MB deduped)\\r'), FloatProgress(value=1.0, max…"
            ]
          },
          "metadata": {},
          "output_type": "display_data"
        },
        {
          "data": {
            "text/html": [
              "<style>\n",
              "    table.wandb td:nth-child(1) { padding: 0 10px; text-align: left ; width: auto;} td:nth-child(2) {text-align: left ; width: 100%}\n",
              "    .wandb-row { display: flex; flex-direction: row; flex-wrap: wrap; justify-content: flex-start; width: 100% }\n",
              "    .wandb-col { display: flex; flex-direction: column; flex-basis: 100%; flex: 1; padding: 10px; }\n",
              "    </style>\n",
              "<div class=\"wandb-row\"><div class=\"wandb-col\"><h3>Run history:</h3><br/><table class=\"wandb\"><tr><td>epoch</td><td>▁▁▁▂▂▂▂▂▂▃▃▃▃▃▃▄▄▄▄▄▅▅▅▅▅▅▆▆▆▆▆▆▇▇▇▇▇███</td></tr><tr><td>loss</td><td>█▅▅▄▄▃▃▂▂▂▂▂▁▁▁▁▁▁▁▁▁▁▁▁▁▁▁▁▁▁▁▁▁▁▁▁▁▁▁▁</td></tr><tr><td>mae</td><td>█▅▄▄▄▄▃▃▂▂▂▂▁▁▁▁▁▁▁▁▁▁▁▁▁▁▁▁▁▁▁▁▁▁▁▁▁▁▁▁</td></tr><tr><td>val_loss</td><td>▂▁▂▃▂▁▁▁▆▆▄▇▆▄▂▂▄▄▃▅▄▆▄▄▄▅▄▆▃▅▄▄█▄▅▅█▆▄▄</td></tr><tr><td>val_mae</td><td>▃▂▂▄▂▂▁▁▇▇▄█▇▅▃▃▅▅▄▅▅▆▄▅▅▆▅▆▄▅▄▄█▄▆▅▇▆▅▅</td></tr></table><br/></div><div class=\"wandb-col\"><h3>Run summary:</h3><br/><table class=\"wandb\"><tr><td>best_epoch</td><td>39</td></tr><tr><td>best_val_loss</td><td>490876.6875</td></tr><tr><td>epoch</td><td>79</td></tr><tr><td>loss</td><td>363973.3125</td></tr><tr><td>mae</td><td>327.99783</td></tr><tr><td>val_loss</td><td>1158102.0</td></tr><tr><td>val_mae</td><td>604.79309</td></tr></table><br/></div></div>"
            ],
            "text/plain": [
              "<IPython.core.display.HTML object>"
            ]
          },
          "metadata": {},
          "output_type": "display_data"
        },
        {
          "data": {
            "text/html": [
              "Synced <strong style=\"color:#cdcd00\">dauntless-wind-9</strong>: <a href=\"https://wandb.ai/fabelifer2797/Diamonds/runs/2pextu8s\" target=\"_blank\">https://wandb.ai/fabelifer2797/Diamonds/runs/2pextu8s</a><br/>Synced 5 W&B file(s), 1 media file(s), 0 artifact file(s) and 1 other file(s)"
            ],
            "text/plain": [
              "<IPython.core.display.HTML object>"
            ]
          },
          "metadata": {},
          "output_type": "display_data"
        },
        {
          "data": {
            "text/html": [
              "Find logs at: <code>./wandb/run-20220614_121124-2pextu8s/logs</code>"
            ],
            "text/plain": [
              "<IPython.core.display.HTML object>"
            ]
          },
          "metadata": {},
          "output_type": "display_data"
        },
        {
          "data": {
            "text/html": [
              "Successfully finished last run (ID:2pextu8s). Initializing new run:<br/>"
            ],
            "text/plain": [
              "<IPython.core.display.HTML object>"
            ]
          },
          "metadata": {},
          "output_type": "display_data"
        },
        {
          "data": {
            "text/html": [
              "Tracking run with wandb version 0.12.18"
            ],
            "text/plain": [
              "<IPython.core.display.HTML object>"
            ]
          },
          "metadata": {},
          "output_type": "display_data"
        },
        {
          "data": {
            "text/html": [
              "Run data is saved locally in <code>/content/wandb/run-20220614_123432-28fz0s0o</code>"
            ],
            "text/plain": [
              "<IPython.core.display.HTML object>"
            ]
          },
          "metadata": {},
          "output_type": "display_data"
        },
        {
          "data": {
            "text/html": [
              "Syncing run <strong><a href=\"https://wandb.ai/fabelifer2797/Diamonds/runs/28fz0s0o\" target=\"_blank\">genial-serenity-10</a></strong> to <a href=\"https://wandb.ai/fabelifer2797/Diamonds\" target=\"_blank\">Weights & Biases</a> (<a href=\"https://wandb.me/run\" target=\"_blank\">docs</a>)<br/>"
            ],
            "text/plain": [
              "<IPython.core.display.HTML object>"
            ]
          },
          "metadata": {},
          "output_type": "display_data"
        },
        {
          "name": "stdout",
          "output_type": "stream",
          "text": [
            "Model: \"sequential_4\"\n",
            "_________________________________________________________________\n",
            " Layer (type)                Output Shape              Param #   \n",
            "=================================================================\n",
            " dense_16 (Dense)            (None, 32)                320       \n",
            "                                                                 \n",
            " dense_17 (Dense)            (None, 64)                2112      \n",
            "                                                                 \n",
            " dropout_4 (Dropout)         (None, 64)                0         \n",
            "                                                                 \n",
            " dense_18 (Dense)            (None, 192)               12480     \n",
            "                                                                 \n",
            " dense_19 (Dense)            (None, 1)                 193       \n",
            "                                                                 \n",
            "=================================================================\n",
            "Total params: 15,105\n",
            "Trainable params: 15,105\n",
            "Non-trainable params: 0\n",
            "_________________________________________________________________\n"
          ]
        }
      ],
      "source": [
        "# Se configura la herramienta de wandb con el nombre de proyecto 'Diamonds'\n",
        "# Se establecen algunos parámetros de configuración, como el learning rate resultante del proceso de optimización de hiperparámetros, así como el número de epochs\n",
        "wand_run = wandb.init(project=\"Diamonds\",\n",
        "                      config={\n",
        "                          \"learning_rate\": 0.01,\n",
        "                          \"epochs\" : 80,\n",
        "                      }  \n",
        ")\n",
        "\n",
        "# Se almacena en una variable los parámetros de configuración utilizados por wandb\n",
        "config = wandb.config\n",
        "\n",
        "# Se construye el modelo de la red neuronal utilizada\n",
        "model = tuner.hypermodel.build(best_hps)\n",
        "model.summary()"
      ]
    },
    {
      "cell_type": "markdown",
      "metadata": {
        "id": "dbgUCQ0OeBMW"
      },
      "source": [
        "Una vez construido el modelo, la herramienta de wandb genera un link donde se puede acceder al dashboard interactivo que presenta los resultados del proceso de entrenamiento de la red. Evidentemente, en primera instancia la información brindada estará vacía, hasta que se reciban insumos por parte del proceso de entrenamiento. Para ello es necesario, instalar un callback en el método de fit que ofrece la biblioteca de keras. Este callback será el encargado de ir proporcionando los resultados obtenidos a la herramienta, de manera que se puedan contemplar de una forma gráfica e interactiva. Una vez finalizado el proceso anterior, se puede actualizar el link que proporciona wandb para acceder a los reportes. Cabe destacar para acceder al dashboard interactivo es necesario ingresar en la siguiente dirección: https://wandb.ai/fabelifer2797/Diamonds/runs/2pextu8s"
      ]
    },
    {
      "cell_type": "code",
      "execution_count": null,
      "metadata": {
        "colab": {
          "base_uri": "https://localhost:8080/"
        },
        "id": "LlxYKHycoYan",
        "outputId": "fdbc96c4-d4a3-4337-b59f-d7e62959aacd"
      },
      "outputs": [
        {
          "name": "stderr",
          "output_type": "stream",
          "text": [
            "\u001b[34m\u001b[1mwandb\u001b[0m: \u001b[33mWARNING\u001b[0m The save_model argument by default saves the model in the HDF5 format that cannot save custom objects like subclassed models and custom layers. This behavior will be deprecated in a future release in favor of the SavedModel format. Meanwhile, the HDF5 model is saved as W&B files and the SavedModel as W&B Artifacts.\n"
          ]
        },
        {
          "name": "stdout",
          "output_type": "stream",
          "text": [
            "Epoch 1/80\n",
            "   1/1012 [..............................] - ETA: 14:06 - loss: 33174646.0000 - mae: 3861.1694WARNING:tensorflow:Callback method `on_train_batch_end` is slow compared to the batch time (batch time: 0.0027s vs `on_train_batch_end` time: 0.0029s). Check your callbacks.\n",
            "1012/1012 [==============================] - 4s 3ms/step - loss: 1776930.1250 - mae: 671.3762 - val_loss: 716308.9375 - val_mae: 471.9160 - _timestamp: 1655208691.0000 - _runtime: 7.0000\n",
            "Epoch 2/80\n",
            "1012/1012 [==============================] - 3s 3ms/step - loss: 1375678.6250 - mae: 547.5326 - val_loss: 1448791.2500 - val_mae: 717.4042 - _timestamp: 1655208694.0000 - _runtime: 10.0000\n",
            "Epoch 3/80\n",
            "1012/1012 [==============================] - 3s 3ms/step - loss: 1227732.7500 - mae: 518.3187 - val_loss: 545852.5000 - val_mae: 397.0519 - _timestamp: 1655208697.0000 - _runtime: 13.0000\n",
            "Epoch 4/80\n",
            "1012/1012 [==============================] - 3s 3ms/step - loss: 1101663.7500 - mae: 499.7104 - val_loss: 1177551.5000 - val_mae: 610.6536 - _timestamp: 1655208700.0000 - _runtime: 16.0000\n",
            "Epoch 5/80\n",
            "1012/1012 [==============================] - 3s 3ms/step - loss: 1163471.7500 - mae: 488.8426 - val_loss: 686714.5000 - val_mae: 440.6556 - _timestamp: 1655208703.0000 - _runtime: 19.0000\n",
            "Epoch 6/80\n",
            "1012/1012 [==============================] - 3s 3ms/step - loss: 1056584.6250 - mae: 484.5021 - val_loss: 495237.9375 - val_mae: 363.0219 - _timestamp: 1655208705.0000 - _runtime: 21.0000\n",
            "Epoch 7/80\n",
            "1012/1012 [==============================] - 3s 3ms/step - loss: 987149.0000 - mae: 478.5572 - val_loss: 954117.4375 - val_mae: 553.0419 - _timestamp: 1655208709.0000 - _runtime: 25.0000\n",
            "Epoch 8/80\n",
            "1012/1012 [==============================] - 3s 3ms/step - loss: 986422.5000 - mae: 466.5259 - val_loss: 991863.2500 - val_mae: 570.8962 - _timestamp: 1655208711.0000 - _runtime: 27.0000\n",
            "Epoch 9/80\n",
            "1012/1012 [==============================] - 3s 3ms/step - loss: 949910.1250 - mae: 465.9215 - val_loss: 632842.6875 - val_mae: 426.8534 - _timestamp: 1655208714.0000 - _runtime: 30.0000\n",
            "Epoch 10/80\n",
            "1012/1012 [==============================] - 3s 3ms/step - loss: 850549.1875 - mae: 463.4614 - val_loss: 513528.8438 - val_mae: 349.5907 - _timestamp: 1655208717.0000 - _runtime: 33.0000\n",
            "Epoch 11/80\n",
            "1012/1012 [==============================] - 3s 3ms/step - loss: 803194.3750 - mae: 457.0652 - val_loss: 605241.1250 - val_mae: 418.3784 - _timestamp: 1655208719.0000 - _runtime: 35.0000\n",
            "Epoch 12/80\n",
            "1012/1012 [==============================] - 3s 3ms/step - loss: 741437.0000 - mae: 441.3422 - val_loss: 692487.0625 - val_mae: 429.4462 - _timestamp: 1655208723.0000 - _runtime: 39.0000\n",
            "Epoch 13/80\n",
            "1012/1012 [==============================] - 3s 3ms/step - loss: 672942.0000 - mae: 429.9712 - val_loss: 562299.7500 - val_mae: 364.2608 - _timestamp: 1655208726.0000 - _runtime: 42.0000\n",
            "Epoch 14/80\n",
            "1012/1012 [==============================] - 3s 3ms/step - loss: 627364.1875 - mae: 415.7841 - val_loss: 536351.4375 - val_mae: 379.9945 - _timestamp: 1655208729.0000 - _runtime: 45.0000\n",
            "Epoch 15/80\n",
            "1012/1012 [==============================] - 3s 3ms/step - loss: 596459.8125 - mae: 407.0430 - val_loss: 493720.0000 - val_mae: 360.6042 - _timestamp: 1655208732.0000 - _runtime: 48.0000\n",
            "Epoch 16/80\n",
            "1012/1012 [==============================] - 3s 3ms/step - loss: 573902.3750 - mae: 394.8341 - val_loss: 500125.9062 - val_mae: 385.8617 - _timestamp: 1655208734.0000 - _runtime: 50.0000\n",
            "Epoch 17/80\n",
            "1012/1012 [==============================] - 3s 3ms/step - loss: 550840.9375 - mae: 391.0807 - val_loss: 1737492.6250 - val_mae: 771.1497 - _timestamp: 1655208737.0000 - _runtime: 53.0000\n",
            "Epoch 18/80\n",
            "1012/1012 [==============================] - 3s 3ms/step - loss: 520788.6250 - mae: 380.1698 - val_loss: 1225519.6250 - val_mae: 654.5746 - _timestamp: 1655208740.0000 - _runtime: 56.0000\n",
            "Epoch 19/80\n",
            "1012/1012 [==============================] - 3s 3ms/step - loss: 506286.8438 - mae: 374.4436 - val_loss: 1600496.3750 - val_mae: 755.0070 - _timestamp: 1655208742.0000 - _runtime: 58.0000\n",
            "Epoch 20/80\n",
            "1012/1012 [==============================] - 3s 3ms/step - loss: 518435.1875 - mae: 372.8375 - val_loss: 1853380.7500 - val_mae: 791.3190 - _timestamp: 1655208745.0000 - _runtime: 61.0000\n",
            "Epoch 21/80\n",
            "1012/1012 [==============================] - 2s 2ms/step - loss: 499075.1250 - mae: 366.1355 - val_loss: 1103358.8750 - val_mae: 599.2567 - _timestamp: 1655208748.0000 - _runtime: 64.0000\n",
            "Epoch 22/80\n",
            "1012/1012 [==============================] - 3s 3ms/step - loss: 470621.8125 - mae: 359.7102 - val_loss: 2667469.0000 - val_mae: 947.2634 - _timestamp: 1655208751.0000 - _runtime: 67.0000\n",
            "Epoch 23/80\n",
            "1012/1012 [==============================] - 3s 3ms/step - loss: 461827.8750 - mae: 359.8662 - val_loss: 2013872.1250 - val_mae: 846.4471 - _timestamp: 1655208754.0000 - _runtime: 70.0000\n",
            "Epoch 24/80\n",
            "1012/1012 [==============================] - 3s 3ms/step - loss: 460262.9688 - mae: 356.8702 - val_loss: 1705802.0000 - val_mae: 776.3119 - _timestamp: 1655208757.0000 - _runtime: 73.0000\n",
            "Epoch 25/80\n",
            "1012/1012 [==============================] - 3s 3ms/step - loss: 446676.5000 - mae: 351.4684 - val_loss: 1607169.3750 - val_mae: 744.7994 - _timestamp: 1655208759.0000 - _runtime: 75.0000\n",
            "Epoch 26/80\n",
            "1012/1012 [==============================] - 3s 3ms/step - loss: 439658.6250 - mae: 349.4183 - val_loss: 1182534.0000 - val_mae: 627.6340 - _timestamp: 1655208762.0000 - _runtime: 78.0000\n",
            "Epoch 27/80\n",
            "1012/1012 [==============================] - 3s 3ms/step - loss: 430600.9375 - mae: 347.1233 - val_loss: 1225349.0000 - val_mae: 626.0547 - _timestamp: 1655208765.0000 - _runtime: 81.0000\n",
            "Epoch 28/80\n",
            "1012/1012 [==============================] - 3s 3ms/step - loss: 425711.7500 - mae: 346.0764 - val_loss: 1829575.8750 - val_mae: 761.4624 - _timestamp: 1655208768.0000 - _runtime: 84.0000\n",
            "Epoch 29/80\n",
            "1012/1012 [==============================] - 3s 3ms/step - loss: 417979.2500 - mae: 343.2764 - val_loss: 671783.8750 - val_mae: 468.9002 - _timestamp: 1655208771.0000 - _runtime: 87.0000\n",
            "Epoch 30/80\n",
            "1012/1012 [==============================] - 3s 3ms/step - loss: 411502.5625 - mae: 343.4902 - val_loss: 624246.5000 - val_mae: 460.2979 - _timestamp: 1655208774.0000 - _runtime: 90.0000\n",
            "Epoch 31/80\n",
            "1012/1012 [==============================] - 3s 3ms/step - loss: 406123.0938 - mae: 341.5120 - val_loss: 771980.6250 - val_mae: 476.7766 - _timestamp: 1655208777.0000 - _runtime: 93.0000\n",
            "Epoch 32/80\n",
            "1012/1012 [==============================] - 3s 3ms/step - loss: 404339.8438 - mae: 339.6859 - val_loss: 1095121.6250 - val_mae: 590.2640 - _timestamp: 1655208780.0000 - _runtime: 96.0000\n",
            "Epoch 33/80\n",
            "1012/1012 [==============================] - 3s 3ms/step - loss: 401167.5000 - mae: 339.5690 - val_loss: 1274060.1250 - val_mae: 612.1110 - _timestamp: 1655208783.0000 - _runtime: 99.0000\n",
            "Epoch 34/80\n",
            "1012/1012 [==============================] - 3s 3ms/step - loss: 405253.9688 - mae: 340.5514 - val_loss: 1303534.8750 - val_mae: 660.2563 - _timestamp: 1655208786.0000 - _runtime: 102.0000\n",
            "Epoch 35/80\n",
            "1012/1012 [==============================] - 3s 3ms/step - loss: 395980.5312 - mae: 337.4782 - val_loss: 1303443.2500 - val_mae: 635.8750 - _timestamp: 1655208789.0000 - _runtime: 105.0000\n",
            "Epoch 36/80\n",
            "1012/1012 [==============================] - 3s 3ms/step - loss: 390097.6250 - mae: 336.7535 - val_loss: 1365118.8750 - val_mae: 637.8433 - _timestamp: 1655208791.0000 - _runtime: 107.0000\n",
            "Epoch 37/80\n",
            "1012/1012 [==============================] - 3s 3ms/step - loss: 389911.5000 - mae: 336.9886 - val_loss: 1017654.3750 - val_mae: 574.2322 - _timestamp: 1655208794.0000 - _runtime: 110.0000\n",
            "Epoch 38/80\n",
            "1012/1012 [==============================] - 3s 3ms/step - loss: 392767.0938 - mae: 337.8154 - val_loss: 1295809.5000 - val_mae: 639.9588 - _timestamp: 1655208797.0000 - _runtime: 113.0000\n",
            "Epoch 39/80\n",
            "1012/1012 [==============================] - 3s 3ms/step - loss: 394442.9688 - mae: 337.1411 - val_loss: 1361486.3750 - val_mae: 658.0403 - _timestamp: 1655208800.0000 - _runtime: 116.0000\n",
            "Epoch 40/80\n",
            "1012/1012 [==============================] - 3s 3ms/step - loss: 385154.3125 - mae: 336.2150 - val_loss: 490876.6875 - val_mae: 396.4872 - _timestamp: 1655208803.0000 - _runtime: 119.0000\n",
            "Epoch 41/80\n",
            "1012/1012 [==============================] - 3s 3ms/step - loss: 383300.9375 - mae: 334.8018 - val_loss: 1289089.1250 - val_mae: 607.4141 - _timestamp: 1655208806.0000 - _runtime: 122.0000\n",
            "Epoch 42/80\n",
            "1012/1012 [==============================] - 3s 3ms/step - loss: 382063.1562 - mae: 334.5715 - val_loss: 1268926.2500 - val_mae: 613.2780 - _timestamp: 1655208809.0000 - _runtime: 125.0000\n",
            "Epoch 43/80\n",
            "1012/1012 [==============================] - 3s 3ms/step - loss: 389375.5312 - mae: 336.1894 - val_loss: 1668623.0000 - val_mae: 716.8833 - _timestamp: 1655208811.0000 - _runtime: 127.0000\n",
            "Epoch 44/80\n",
            "1012/1012 [==============================] - 3s 3ms/step - loss: 382166.0312 - mae: 333.9474 - val_loss: 927277.5625 - val_mae: 552.1551 - _timestamp: 1655208814.0000 - _runtime: 130.0000\n",
            "Epoch 45/80\n",
            "1012/1012 [==============================] - 3s 3ms/step - loss: 384560.2812 - mae: 333.8507 - val_loss: 1086725.5000 - val_mae: 568.9908 - _timestamp: 1655208817.0000 - _runtime: 133.0000\n",
            "Epoch 46/80\n",
            "1012/1012 [==============================] - 3s 3ms/step - loss: 375603.5938 - mae: 332.4566 - val_loss: 1643699.0000 - val_mae: 733.9205 - _timestamp: 1655208820.0000 - _runtime: 136.0000\n",
            "Epoch 47/80\n",
            "1012/1012 [==============================] - 3s 3ms/step - loss: 377599.1875 - mae: 332.6937 - val_loss: 1099467.7500 - val_mae: 611.3225 - _timestamp: 1655208822.0000 - _runtime: 138.0000\n",
            "Epoch 48/80\n",
            "1012/1012 [==============================] - 3s 3ms/step - loss: 378933.8438 - mae: 332.6102 - val_loss: 1397706.7500 - val_mae: 689.2278 - _timestamp: 1655208825.0000 - _runtime: 141.0000\n",
            "Epoch 49/80\n",
            "1012/1012 [==============================] - 3s 3ms/step - loss: 377604.6562 - mae: 331.6524 - val_loss: 1265115.0000 - val_mae: 645.1748 - _timestamp: 1655208828.0000 - _runtime: 144.0000\n",
            "Epoch 50/80\n",
            "1012/1012 [==============================] - 3s 3ms/step - loss: 376537.4062 - mae: 330.8300 - val_loss: 840222.2500 - val_mae: 523.1711 - _timestamp: 1655208831.0000 - _runtime: 147.0000\n",
            "Epoch 51/80\n",
            "1012/1012 [==============================] - 2s 2ms/step - loss: 371188.5312 - mae: 330.9098 - val_loss: 1428984.6250 - val_mae: 675.7285 - _timestamp: 1655208834.0000 - _runtime: 150.0000\n",
            "Epoch 52/80\n",
            "1012/1012 [==============================] - 3s 3ms/step - loss: 378876.0312 - mae: 332.1443 - val_loss: 733254.3125 - val_mae: 496.5131 - _timestamp: 1655208836.0000 - _runtime: 152.0000\n",
            "Epoch 53/80\n",
            "1012/1012 [==============================] - 2s 2ms/step - loss: 374319.4375 - mae: 330.6375 - val_loss: 1218144.2500 - val_mae: 624.1895 - _timestamp: 1655208839.0000 - _runtime: 155.0000\n",
            "Epoch 54/80\n",
            "1012/1012 [==============================] - 3s 3ms/step - loss: 373322.1250 - mae: 333.2892 - val_loss: 1110206.6250 - val_mae: 564.6081 - _timestamp: 1655208842.0000 - _runtime: 158.0000\n",
            "Epoch 55/80\n",
            "1012/1012 [==============================] - 3s 3ms/step - loss: 369176.1250 - mae: 330.4742 - val_loss: 1665491.3750 - val_mae: 679.4402 - _timestamp: 1655208844.0000 - _runtime: 160.0000\n",
            "Epoch 56/80\n",
            "1012/1012 [==============================] - 3s 3ms/step - loss: 370308.9062 - mae: 330.5115 - val_loss: 1470705.3750 - val_mae: 679.8774 - _timestamp: 1655208848.0000 - _runtime: 164.0000\n",
            "Epoch 57/80\n",
            "1012/1012 [==============================] - 3s 3ms/step - loss: 371572.9062 - mae: 329.8825 - val_loss: 1072884.5000 - val_mae: 561.7181 - _timestamp: 1655208850.0000 - _runtime: 166.0000\n",
            "Epoch 58/80\n",
            "1012/1012 [==============================] - 3s 3ms/step - loss: 369103.4688 - mae: 330.6187 - val_loss: 1301485.2500 - val_mae: 639.0823 - _timestamp: 1655208854.0000 - _runtime: 170.0000\n",
            "Epoch 59/80\n",
            "1012/1012 [==============================] - 4s 4ms/step - loss: 365649.6875 - mae: 330.4318 - val_loss: 1372449.5000 - val_mae: 654.0729 - _timestamp: 1655208858.0000 - _runtime: 174.0000\n",
            "Epoch 60/80\n",
            "1012/1012 [==============================] - 3s 3ms/step - loss: 364766.7812 - mae: 329.4063 - val_loss: 1345276.2500 - val_mae: 638.6400 - _timestamp: 1655208861.0000 - _runtime: 177.0000\n",
            "Epoch 61/80\n",
            "1012/1012 [==============================] - 3s 3ms/step - loss: 370389.0000 - mae: 330.8481 - val_loss: 1190947.3750 - val_mae: 568.4626 - _timestamp: 1655208863.0000 - _runtime: 179.0000\n",
            "Epoch 62/80\n",
            "1012/1012 [==============================] - 2s 2ms/step - loss: 365214.8125 - mae: 328.4076 - val_loss: 1723272.2500 - val_mae: 735.1460 - _timestamp: 1655208866.0000 - _runtime: 182.0000\n",
            "Epoch 63/80\n",
            "1012/1012 [==============================] - 3s 3ms/step - loss: 369310.0625 - mae: 328.8856 - val_loss: 1109135.3750 - val_mae: 581.5192 - _timestamp: 1655208869.0000 - _runtime: 185.0000\n",
            "Epoch 64/80\n",
            "1012/1012 [==============================] - 3s 3ms/step - loss: 371039.8438 - mae: 331.2021 - val_loss: 1144537.5000 - val_mae: 560.5979 - _timestamp: 1655208871.0000 - _runtime: 187.0000\n",
            "Epoch 65/80\n",
            "1012/1012 [==============================] - 3s 3ms/step - loss: 365031.8438 - mae: 328.9178 - val_loss: 2147938.7500 - val_mae: 819.3612 - _timestamp: 1655208874.0000 - _runtime: 190.0000\n",
            "Epoch 66/80\n",
            "1012/1012 [==============================] - 3s 3ms/step - loss: 367385.6250 - mae: 330.1404 - val_loss: 2095148.6250 - val_mae: 782.2700 - _timestamp: 1655208877.0000 - _runtime: 193.0000\n",
            "Epoch 67/80\n",
            "1012/1012 [==============================] - 3s 3ms/step - loss: 361230.8438 - mae: 328.1555 - val_loss: 1088156.1250 - val_mae: 602.8646 - _timestamp: 1655208880.0000 - _runtime: 196.0000\n",
            "Epoch 68/80\n",
            "1012/1012 [==============================] - 2s 2ms/step - loss: 362696.7500 - mae: 329.5173 - val_loss: 1500771.1250 - val_mae: 672.5352 - _timestamp: 1655208882.0000 - _runtime: 198.0000\n",
            "Epoch 69/80\n",
            "1012/1012 [==============================] - 3s 3ms/step - loss: 362182.3750 - mae: 329.5587 - val_loss: 1511671.0000 - val_mae: 702.8679 - _timestamp: 1655208885.0000 - _runtime: 201.0000\n",
            "Epoch 70/80\n",
            "1012/1012 [==============================] - 3s 3ms/step - loss: 356533.6562 - mae: 325.9045 - val_loss: 998018.3125 - val_mae: 562.2865 - _timestamp: 1655208888.0000 - _runtime: 204.0000\n",
            "Epoch 71/80\n",
            "1012/1012 [==============================] - 3s 3ms/step - loss: 369019.2500 - mae: 330.4157 - val_loss: 1391233.1250 - val_mae: 645.4793 - _timestamp: 1655208891.0000 - _runtime: 207.0000\n",
            "Epoch 72/80\n",
            "1012/1012 [==============================] - 3s 3ms/step - loss: 360019.3438 - mae: 326.6939 - val_loss: 1531409.2500 - val_mae: 695.7986 - _timestamp: 1655208894.0000 - _runtime: 210.0000\n",
            "Epoch 73/80\n",
            "1012/1012 [==============================] - 3s 3ms/step - loss: 363137.9062 - mae: 327.7941 - val_loss: 2097342.5000 - val_mae: 755.8796 - _timestamp: 1655208897.0000 - _runtime: 213.0000\n",
            "Epoch 74/80\n",
            "1012/1012 [==============================] - 3s 3ms/step - loss: 357121.3125 - mae: 326.2109 - val_loss: 1268363.8750 - val_mae: 623.6818 - _timestamp: 1655208900.0000 - _runtime: 216.0000\n",
            "Epoch 75/80\n",
            "1012/1012 [==============================] - 3s 3ms/step - loss: 367242.1562 - mae: 328.3871 - val_loss: 1637774.1250 - val_mae: 736.6720 - _timestamp: 1655208904.0000 - _runtime: 220.0000\n",
            "Epoch 76/80\n",
            "1012/1012 [==============================] - 3s 3ms/step - loss: 363509.0938 - mae: 328.3015 - val_loss: 777400.1250 - val_mae: 510.3894 - _timestamp: 1655208906.0000 - _runtime: 222.0000\n",
            "Epoch 77/80\n",
            "1012/1012 [==============================] - 3s 3ms/step - loss: 357580.6562 - mae: 327.3160 - val_loss: 1293375.7500 - val_mae: 653.8198 - _timestamp: 1655208909.0000 - _runtime: 225.0000\n",
            "Epoch 78/80\n",
            "1012/1012 [==============================] - 2s 2ms/step - loss: 362454.2812 - mae: 326.9213 - val_loss: 1402360.1250 - val_mae: 675.9643 - _timestamp: 1655208911.0000 - _runtime: 227.0000\n",
            "Epoch 79/80\n",
            "1012/1012 [==============================] - 3s 3ms/step - loss: 358573.4062 - mae: 327.2146 - val_loss: 1260719.8750 - val_mae: 615.5266 - _timestamp: 1655208914.0000 - _runtime: 230.0000\n",
            "Epoch 80/80\n",
            "1012/1012 [==============================] - 3s 3ms/step - loss: 363973.3125 - mae: 327.9978 - val_loss: 1158102.0000 - val_mae: 604.7931 - _timestamp: 1655208917.0000 - _runtime: 233.0000\n"
          ]
        }
      ],
      "source": [
        "# Se realiza el fit del modelo, utilizando el callback de wandb\n",
        "# El resultado del proceso no se almacena en ninguna variable significativa, ya que la información obtenida se procesará de forma gráfica con el dashboard\n",
        "_ = model.fit(X_train,\n",
        "              Y_train, \n",
        "              epochs=config.epochs, \n",
        "              validation_data=(X_val, Y_val),\n",
        "              callbacks=[WandbCallback()])"
      ]
    },
    {
      "cell_type": "markdown",
      "metadata": {
        "id": "oX0SkRYsUr42"
      },
      "source": [
        "##4. Conclusiones"
      ]
    },
    {
      "cell_type": "markdown",
      "metadata": {
        "id": "3l90jJ7gUxFS"
      },
      "source": [
        ""
      ]
    }
  ],
  "metadata": {
    "accelerator": "GPU",
    "colab": {
      "collapsed_sections": [],
      "name": "2022-1-Trabajo_Practico_04_NataliaVargas_FabricioElizondo.ipynb",
      "provenance": [],
      "include_colab_link": true
    },
    "kernelspec": {
      "display_name": "Python 3 (ipykernel)",
      "language": "python",
      "name": "python3"
    },
    "language_info": {
      "codemirror_mode": {
        "name": "ipython",
        "version": 3
      },
      "file_extension": ".py",
      "mimetype": "text/x-python",
      "name": "python",
      "nbconvert_exporter": "python",
      "pygments_lexer": "ipython3",
      "version": "3.7.13"
    },
    "widgets": {
      "application/vnd.jupyter.widget-state+json": {
        "2eae26d2dba44c32ae8e5a2c341606e3": {
          "model_module": "@jupyter-widgets/base",
          "model_module_version": "1.2.0",
          "model_name": "LayoutModel",
          "state": {
            "_model_module": "@jupyter-widgets/base",
            "_model_module_version": "1.2.0",
            "_model_name": "LayoutModel",
            "_view_count": null,
            "_view_module": "@jupyter-widgets/base",
            "_view_module_version": "1.2.0",
            "_view_name": "LayoutView",
            "align_content": null,
            "align_items": null,
            "align_self": null,
            "border": null,
            "bottom": null,
            "display": null,
            "flex": null,
            "flex_flow": null,
            "grid_area": null,
            "grid_auto_columns": null,
            "grid_auto_flow": null,
            "grid_auto_rows": null,
            "grid_column": null,
            "grid_gap": null,
            "grid_row": null,
            "grid_template_areas": null,
            "grid_template_columns": null,
            "grid_template_rows": null,
            "height": null,
            "justify_content": null,
            "justify_items": null,
            "left": null,
            "margin": null,
            "max_height": null,
            "max_width": null,
            "min_height": null,
            "min_width": null,
            "object_fit": null,
            "object_position": null,
            "order": null,
            "overflow": null,
            "overflow_x": null,
            "overflow_y": null,
            "padding": null,
            "right": null,
            "top": null,
            "visibility": null,
            "width": null
          }
        },
        "36de7f7d9afa47909f5385160868901c": {
          "model_module": "@jupyter-widgets/base",
          "model_module_version": "1.2.0",
          "model_name": "LayoutModel",
          "state": {
            "_model_module": "@jupyter-widgets/base",
            "_model_module_version": "1.2.0",
            "_model_name": "LayoutModel",
            "_view_count": null,
            "_view_module": "@jupyter-widgets/base",
            "_view_module_version": "1.2.0",
            "_view_name": "LayoutView",
            "align_content": null,
            "align_items": null,
            "align_self": null,
            "border": null,
            "bottom": null,
            "display": null,
            "flex": null,
            "flex_flow": null,
            "grid_area": null,
            "grid_auto_columns": null,
            "grid_auto_flow": null,
            "grid_auto_rows": null,
            "grid_column": null,
            "grid_gap": null,
            "grid_row": null,
            "grid_template_areas": null,
            "grid_template_columns": null,
            "grid_template_rows": null,
            "height": null,
            "justify_content": null,
            "justify_items": null,
            "left": null,
            "margin": null,
            "max_height": null,
            "max_width": null,
            "min_height": null,
            "min_width": null,
            "object_fit": null,
            "object_position": null,
            "order": null,
            "overflow": null,
            "overflow_x": null,
            "overflow_y": null,
            "padding": null,
            "right": null,
            "top": null,
            "visibility": null,
            "width": null
          }
        },
        "65b561d258d0403197263bcc94d24e55": {
          "model_module": "@jupyter-widgets/controls",
          "model_module_version": "1.5.0",
          "model_name": "DescriptionStyleModel",
          "state": {
            "_model_module": "@jupyter-widgets/controls",
            "_model_module_version": "1.5.0",
            "_model_name": "DescriptionStyleModel",
            "_view_count": null,
            "_view_module": "@jupyter-widgets/base",
            "_view_module_version": "1.2.0",
            "_view_name": "StyleView",
            "description_width": ""
          }
        },
        "8c8a39e7770f4ee1a94be6b0c644247c": {
          "model_module": "@jupyter-widgets/controls",
          "model_module_version": "1.5.0",
          "model_name": "LabelModel",
          "state": {
            "_dom_classes": [],
            "_model_module": "@jupyter-widgets/controls",
            "_model_module_version": "1.5.0",
            "_model_name": "LabelModel",
            "_view_count": null,
            "_view_module": "@jupyter-widgets/controls",
            "_view_module_version": "1.5.0",
            "_view_name": "LabelView",
            "description": "",
            "description_tooltip": null,
            "layout": "IPY_MODEL_2eae26d2dba44c32ae8e5a2c341606e3",
            "placeholder": "​",
            "style": "IPY_MODEL_65b561d258d0403197263bcc94d24e55",
            "value": "0.181 MB of 0.181 MB uploaded (0.000 MB deduped)\r"
          }
        },
        "94c838b4550d4f17aad27ffd73b3cd39": {
          "model_module": "@jupyter-widgets/base",
          "model_module_version": "1.2.0",
          "model_name": "LayoutModel",
          "state": {
            "_model_module": "@jupyter-widgets/base",
            "_model_module_version": "1.2.0",
            "_model_name": "LayoutModel",
            "_view_count": null,
            "_view_module": "@jupyter-widgets/base",
            "_view_module_version": "1.2.0",
            "_view_name": "LayoutView",
            "align_content": null,
            "align_items": null,
            "align_self": null,
            "border": null,
            "bottom": null,
            "display": null,
            "flex": null,
            "flex_flow": null,
            "grid_area": null,
            "grid_auto_columns": null,
            "grid_auto_flow": null,
            "grid_auto_rows": null,
            "grid_column": null,
            "grid_gap": null,
            "grid_row": null,
            "grid_template_areas": null,
            "grid_template_columns": null,
            "grid_template_rows": null,
            "height": null,
            "justify_content": null,
            "justify_items": null,
            "left": null,
            "margin": null,
            "max_height": null,
            "max_width": null,
            "min_height": null,
            "min_width": null,
            "object_fit": null,
            "object_position": null,
            "order": null,
            "overflow": null,
            "overflow_x": null,
            "overflow_y": null,
            "padding": null,
            "right": null,
            "top": null,
            "visibility": null,
            "width": null
          }
        },
        "f367491b3ad24f09b5ffb5c6138d6785": {
          "model_module": "@jupyter-widgets/controls",
          "model_module_version": "1.5.0",
          "model_name": "FloatProgressModel",
          "state": {
            "_dom_classes": [],
            "_model_module": "@jupyter-widgets/controls",
            "_model_module_version": "1.5.0",
            "_model_name": "FloatProgressModel",
            "_view_count": null,
            "_view_module": "@jupyter-widgets/controls",
            "_view_module_version": "1.5.0",
            "_view_name": "ProgressView",
            "bar_style": "",
            "description": "",
            "description_tooltip": null,
            "layout": "IPY_MODEL_36de7f7d9afa47909f5385160868901c",
            "max": 1,
            "min": 0,
            "orientation": "horizontal",
            "style": "IPY_MODEL_f5bad0896b754cc99ea18bde7f681417",
            "value": 1
          }
        },
        "f5bad0896b754cc99ea18bde7f681417": {
          "model_module": "@jupyter-widgets/controls",
          "model_module_version": "1.5.0",
          "model_name": "ProgressStyleModel",
          "state": {
            "_model_module": "@jupyter-widgets/controls",
            "_model_module_version": "1.5.0",
            "_model_name": "ProgressStyleModel",
            "_view_count": null,
            "_view_module": "@jupyter-widgets/base",
            "_view_module_version": "1.2.0",
            "_view_name": "StyleView",
            "bar_color": null,
            "description_width": ""
          }
        },
        "ffc6aebea9c44d10b9776701df158d5d": {
          "model_module": "@jupyter-widgets/controls",
          "model_module_version": "1.5.0",
          "model_name": "VBoxModel",
          "state": {
            "_dom_classes": [],
            "_model_module": "@jupyter-widgets/controls",
            "_model_module_version": "1.5.0",
            "_model_name": "VBoxModel",
            "_view_count": null,
            "_view_module": "@jupyter-widgets/controls",
            "_view_module_version": "1.5.0",
            "_view_name": "VBoxView",
            "box_style": "",
            "children": [
              "IPY_MODEL_8c8a39e7770f4ee1a94be6b0c644247c",
              "IPY_MODEL_f367491b3ad24f09b5ffb5c6138d6785"
            ],
            "layout": "IPY_MODEL_94c838b4550d4f17aad27ffd73b3cd39"
          }
        }
      }
    }
  },
  "nbformat": 4,
  "nbformat_minor": 0
}